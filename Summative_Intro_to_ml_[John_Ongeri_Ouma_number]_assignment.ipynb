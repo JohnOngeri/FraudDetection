{
  "cells": [
    {
      "cell_type": "markdown",
      "metadata": {
        "colab_type": "text",
        "id": "view-in-github"
      },
      "source": [
        "<a href=\"https://colab.research.google.com/github/JohnOngeri/FraudDetection/blob/main/Summative_Intro_to_ml_%5BJohn_Ongeri_Ouma_number%5D_assignment.ipynb\" target=\"_parent\"><img src=\"https://colab.research.google.com/assets/colab-badge.svg\" alt=\"Open In Colab\"/></a>"
      ]
    },
    {
      "cell_type": "markdown",
      "metadata": {
        "id": "ujuLMxSvoXbg"
      },
      "source": [
        "# Optimization Techniques in Machine Learning\n",
        "\n",
        "Objective: This assignment aims to explore implementation or Machine Learning Models with regularization, optimization and Error analysis  techniques used in machine learning to improve models' performance, convergence speed, and efficiency..\n",
        "\n",
        "A Notebook detailing the following\n",
        "\n",
        "* Project name\n",
        "* Clear out puts from cells\n",
        "\n",
        "\n",
        "\n",
        "\n",
        "\n",
        "\n",
        "**Instructions**\n",
        "\n",
        "1. Acquire a dataset suitable for ML tasks as per your proposal.\n",
        "2. Implement a simple machine learning model based on neural networks on the chosen dataset without any defined optimization techniques. (Check instructions)\n",
        "3. Implement and compare the model's performance after applying 3 to 4 disntict combinations regularization and optimization techniques.\n",
        "4. Discuss the results on the README file.\n",
        "5. Make predictions using test data\n",
        "7. Implement error analysis techniques and ensure there is: F1-Score, Recall, Precision, RUC a confusion matrix using plotting libraries (not verbose)\n",
        "\n",
        "Submit notebook to github repo\n",
        "\n"
      ]
    },
    {
      "cell_type": "markdown",
      "metadata": {
        "id": "o8VW_IzbI3od"
      },
      "source": [
        "\n",
        "# Case Study and Implementation\n",
        "\n",
        "\n"
      ]
    },
    {
      "cell_type": "code",
      "execution_count": 4,
      "metadata": {
        "id": "wGCnpzs9M4Fd"
      },
      "outputs": [],
      "source": [
        "#Import Necessary Libraries\n",
        "\n",
        "# ========== 📊 Data Handling ==========\n",
        "import pandas as pd\n",
        "import numpy as np\n",
        "\n",
        "# ========== 🧼 Preprocessing ==========\n",
        "from sklearn.model_selection import train_test_split\n",
        "from sklearn.preprocessing import StandardScaler\n",
        "from sklearn.utils import resample  # if balancing classes\n",
        "from imblearn.combine import SMOTEENN  # for class imbalance\n",
        "\n",
        "# ========== 📈 Visualization ==========\n",
        "import matplotlib.pyplot as plt\n",
        "import seaborn as sns\n",
        "\n",
        "# ========== ⚙️ Classical ML Models ==========\n",
        "from sklearn.linear_model import LogisticRegression\n",
        "from sklearn.svm import SVC\n",
        "from xgboost import XGBClassifier\n",
        "\n",
        "# ========== 📊 Model Evaluation ==========\n",
        "from sklearn.metrics import (\n",
        "    accuracy_score,\n",
        "    precision_score,\n",
        "    recall_score,\n",
        "    f1_score,\n",
        "    roc_auc_score,\n",
        "    classification_report,\n",
        "    confusion_matrix\n",
        ")\n",
        "\n",
        "# ========== 🧠 Neural Networks ==========\n",
        "from tensorflow.keras.models import Sequential\n",
        "from tensorflow.keras.layers import Dense, Dropout\n",
        "from tensorflow.keras.optimizers import Adam, RMSprop, SGD\n",
        "from tensorflow.keras.callbacks import EarlyStopping\n",
        "from tensorflow.keras.regularizers import l1, l2\n",
        "from tensorflow.keras.models import load_model\n",
        "\n",
        "# ========== 💾 Model Saving ==========\n",
        "import joblib  # for ML models like XGBoost, SVM\n",
        "import os\n",
        "\n",
        "# ========== 🛠️ Warnings ==========\n",
        "import warnings\n",
        "warnings.filterwarnings('ignore')\n",
        "\n",
        "# ========== 📅 Optional: for timestamping models ======\n",
        "from datetime import datetime\n",
        "\n"
      ]
    },
    {
      "cell_type": "markdown",
      "metadata": {
        "id": "M1FN7bFeIxfH"
      },
      "source": [
        "# The Dataset\n",
        "> ***Brief Description:***\n",
        "State the Problem and A short Description of the data\n"
      ]
    },
    {
      "cell_type": "markdown",
      "metadata": {
        "id": "E9SYkVhCZHPD"
      },
      "source": [
        "1.Problem defintion\n",
        "Fraud detection in mobile money transactions. Predicting whether the transaction if a fraud or not"
      ]
    },
    {
      "cell_type": "markdown",
      "metadata": {
        "id": "lJ7jXigIZPlt"
      },
      "source": [
        "The dataset can be downloaded from: https://www.kaggle.com/code/tomaszurban/fraud-detection-in-mobile-transactions/input\n",
        "\n",
        "This dataset contains mobile money transactions which were generated with PaySim simulator. The simulation was based on a sample of real transactions gathered by a company who is the provider of the mobile financial service which is currently runnig in more than 14 countries all around the world. The data is a set of one month financial logs from a mobile money service implemented in an African country.\n",
        "\n",
        "The data is gathered in one CSV file. One line sample row: 1,PAYMENT,1060.31,C429214117,1089.0,28.69,M1591654462,0.0,0.0,0,0\n",
        "\n",
        "The dataset contains (following the example above):\n",
        "\n",
        "step - maps a unit of time in the real world. In this case 1 step is 1 hour of time. Total steps 744 (30 days simulation).\n",
        "\n",
        "type - CASH-IN, CASH-OUT, DEBIT, PAYMENT and TRANSFER.\n",
        "\n",
        "amount - amount of the transaction in local currency.\n",
        "\n",
        "nameOrig - customer who started the transaction\n",
        "\n",
        "oldbalanceOrg - initial balance before the transaction\n",
        "\n",
        "newbalanceOrig - new balance after the transaction\n",
        "\n",
        "nameDest - customer who is the recipient of the transaction\n",
        "\n",
        "oldbalanceDest - initial balance recipient before the transaction. Note that there is not information for customers that start with M (Merchants).\n",
        "\n",
        "newbalanceDest - new balance recipient after the transaction. Note that there is not information for customers that start with M (Merchants).\n",
        "\n",
        "isFraud - This is the transactions made by the fraudulent agents inside the simulation. In this specific dataset the fraudulent behavior of the agents aims to profit by taking control of customers accounts and try to empty the funds by transferring to another account and then cashing out of the system.\n",
        "\n",
        "isFlaggedFraud - The business model aims to control massive transfers from one account to another and flags illegal attempts. An illegal attempt in this dataset is an attempt to transfer more than 200.000 in a single transaction."
      ]
    },
    {
      "cell_type": "code",
      "execution_count": 20,
      "metadata": {
        "colab": {
          "base_uri": "https://localhost:8080/",
          "height": 206
        },
        "id": "nas-T7xwPIso",
        "outputId": "f203cd6c-288d-4309-93cd-d1911d38ffeb"
      },
      "outputs": [
        {
          "data": {
            "text/html": [
              "<div>\n",
              "<style scoped>\n",
              "    .dataframe tbody tr th:only-of-type {\n",
              "        vertical-align: middle;\n",
              "    }\n",
              "\n",
              "    .dataframe tbody tr th {\n",
              "        vertical-align: top;\n",
              "    }\n",
              "\n",
              "    .dataframe thead th {\n",
              "        text-align: right;\n",
              "    }\n",
              "</style>\n",
              "<table border=\"1\" class=\"dataframe\">\n",
              "  <thead>\n",
              "    <tr style=\"text-align: right;\">\n",
              "      <th></th>\n",
              "      <th>step</th>\n",
              "      <th>type</th>\n",
              "      <th>amount</th>\n",
              "      <th>nameOrig</th>\n",
              "      <th>oldbalanceOrg</th>\n",
              "      <th>newbalanceOrig</th>\n",
              "      <th>nameDest</th>\n",
              "      <th>oldbalanceDest</th>\n",
              "      <th>newbalanceDest</th>\n",
              "      <th>isFraud</th>\n",
              "      <th>isFlaggedFraud</th>\n",
              "    </tr>\n",
              "  </thead>\n",
              "  <tbody>\n",
              "    <tr>\n",
              "      <th>0</th>\n",
              "      <td>1</td>\n",
              "      <td>PAYMENT</td>\n",
              "      <td>9839.64</td>\n",
              "      <td>C1231006815</td>\n",
              "      <td>170136.0</td>\n",
              "      <td>160296.36</td>\n",
              "      <td>M1979787155</td>\n",
              "      <td>0.0</td>\n",
              "      <td>0.0</td>\n",
              "      <td>0</td>\n",
              "      <td>0</td>\n",
              "    </tr>\n",
              "    <tr>\n",
              "      <th>1</th>\n",
              "      <td>1</td>\n",
              "      <td>PAYMENT</td>\n",
              "      <td>1864.28</td>\n",
              "      <td>C1666544295</td>\n",
              "      <td>21249.0</td>\n",
              "      <td>19384.72</td>\n",
              "      <td>M2044282225</td>\n",
              "      <td>0.0</td>\n",
              "      <td>0.0</td>\n",
              "      <td>0</td>\n",
              "      <td>0</td>\n",
              "    </tr>\n",
              "    <tr>\n",
              "      <th>2</th>\n",
              "      <td>1</td>\n",
              "      <td>TRANSFER</td>\n",
              "      <td>181.00</td>\n",
              "      <td>C1305486145</td>\n",
              "      <td>181.0</td>\n",
              "      <td>0.00</td>\n",
              "      <td>C553264065</td>\n",
              "      <td>0.0</td>\n",
              "      <td>0.0</td>\n",
              "      <td>1</td>\n",
              "      <td>0</td>\n",
              "    </tr>\n",
              "    <tr>\n",
              "      <th>3</th>\n",
              "      <td>1</td>\n",
              "      <td>CASH_OUT</td>\n",
              "      <td>181.00</td>\n",
              "      <td>C840083671</td>\n",
              "      <td>181.0</td>\n",
              "      <td>0.00</td>\n",
              "      <td>C38997010</td>\n",
              "      <td>21182.0</td>\n",
              "      <td>0.0</td>\n",
              "      <td>1</td>\n",
              "      <td>0</td>\n",
              "    </tr>\n",
              "    <tr>\n",
              "      <th>4</th>\n",
              "      <td>1</td>\n",
              "      <td>PAYMENT</td>\n",
              "      <td>11668.14</td>\n",
              "      <td>C2048537720</td>\n",
              "      <td>41554.0</td>\n",
              "      <td>29885.86</td>\n",
              "      <td>M1230701703</td>\n",
              "      <td>0.0</td>\n",
              "      <td>0.0</td>\n",
              "      <td>0</td>\n",
              "      <td>0</td>\n",
              "    </tr>\n",
              "  </tbody>\n",
              "</table>\n",
              "</div>"
            ],
            "text/plain": [
              "   step      type    amount     nameOrig  oldbalanceOrg  newbalanceOrig  \\\n",
              "0     1   PAYMENT   9839.64  C1231006815       170136.0       160296.36   \n",
              "1     1   PAYMENT   1864.28  C1666544295        21249.0        19384.72   \n",
              "2     1  TRANSFER    181.00  C1305486145          181.0            0.00   \n",
              "3     1  CASH_OUT    181.00   C840083671          181.0            0.00   \n",
              "4     1   PAYMENT  11668.14  C2048537720        41554.0        29885.86   \n",
              "\n",
              "      nameDest  oldbalanceDest  newbalanceDest  isFraud  isFlaggedFraud  \n",
              "0  M1979787155             0.0             0.0        0               0  \n",
              "1  M2044282225             0.0             0.0        0               0  \n",
              "2   C553264065             0.0             0.0        1               0  \n",
              "3    C38997010         21182.0             0.0        1               0  \n",
              "4  M1230701703             0.0             0.0        0               0  "
            ]
          },
          "execution_count": 20,
          "metadata": {},
          "output_type": "execute_result"
        }
      ],
      "source": [
        "#TO DO: Load Data (Seprate into: Train, Validation and test sets)\n",
        "\n",
        "# Using raw string with backslashes\n",
        "data = pd.read_csv(r'C:\\Users\\HP\\FraudDetection\\fraud.csv')\n",
        "\n",
        "# Preview the first 5 rows\n",
        "data.head(5)\n"
      ]
    },
    {
      "cell_type": "code",
      "execution_count": 21,
      "metadata": {
        "id": "sKpRNB06hvvN"
      },
      "outputs": [],
      "source": [
        "# Drop ID columns that don't help model learning\n",
        "data = data.drop(['nameOrig', 'nameDest'], axis=1)\n"
      ]
    },
    {
      "cell_type": "code",
      "execution_count": 22,
      "metadata": {
        "colab": {
          "base_uri": "https://localhost:8080/"
        },
        "id": "OTE6RrU2hz5z",
        "outputId": "d3a333ba-5ae9-4f2c-9d51-5e199269bdaa"
      },
      "outputs": [
        {
          "name": "stdout",
          "output_type": "stream",
          "text": [
            "step                int64\n",
            "amount            float64\n",
            "oldbalanceOrg     float64\n",
            "newbalanceOrig    float64\n",
            "oldbalanceDest    float64\n",
            "newbalanceDest    float64\n",
            "isFraud             int64\n",
            "isFlaggedFraud      int64\n",
            "type_CASH_OUT        bool\n",
            "type_DEBIT           bool\n",
            "type_PAYMENT         bool\n",
            "type_TRANSFER        bool\n",
            "dtype: object\n"
          ]
        }
      ],
      "source": [
        "# Convert 'type' column to numerical (one-hot encoding)\n",
        "data = pd.get_dummies(data, columns=['type'], drop_first=True)\n",
        "\n",
        "# Confirm all are now numeric\n",
        "print(data.dtypes)\n"
      ]
    },
    {
      "cell_type": "code",
      "execution_count": 23,
      "metadata": {
        "id": "KWY2QeE9arxc"
      },
      "outputs": [],
      "source": [
        "# Define X and y\n",
        "X = data.drop(columns=['isFraud'])  # Features\n",
        "y = data['isFraud']                 # Target\n"
      ]
    },
    {
      "cell_type": "code",
      "execution_count": 24,
      "metadata": {
        "id": "yIBLGQ0_iC-N"
      },
      "outputs": [],
      "source": [
        "from sklearn.preprocessing import StandardScaler\n",
        "\n",
        "scaler = StandardScaler()\n",
        "X_scaled = scaler.fit_transform(X)\n"
      ]
    },
    {
      "cell_type": "code",
      "execution_count": 25,
      "metadata": {
        "id": "HznnS24uboWs"
      },
      "outputs": [],
      "source": [
        "from sklearn.model_selection import train_test_split\n",
        "\n",
        "# 80% temp, 20% test\n",
        "X_temp, X_test, y_temp, y_test = train_test_split(X_scaled, y, test_size=0.2, stratify=y, random_state=42)\n",
        "\n",
        "# 75% of temp for training, 25% for validation → 60/20/20 split overall\n",
        "X_train, X_val, y_train, y_val = train_test_split(X_temp, y_temp, test_size=0.25, stratify=y_temp, random_state=42)\n"
      ]
    },
    {
      "cell_type": "code",
      "execution_count": 26,
      "metadata": {
        "colab": {
          "base_uri": "https://localhost:8080/"
        },
        "id": "Lco8-5M8bswm",
        "outputId": "97d4541c-cc79-483e-88e5-5658330ec08f"
      },
      "outputs": [
        {
          "name": "stdout",
          "output_type": "stream",
          "text": [
            "Training set shape:  (629145, 11)\n",
            "Validation set shape:  (209715, 11)\n",
            "Test set shape:  (209715, 11)\n",
            "\n",
            "Class distribution in each split:\n",
            "Train:\n",
            " isFraud\n",
            "0    0.99891\n",
            "1    0.00109\n",
            "Name: proportion, dtype: float64\n",
            "Validation:\n",
            " isFraud\n",
            "0    0.998913\n",
            "1    0.001087\n",
            "Name: proportion, dtype: float64\n",
            "Test:\n",
            " isFraud\n",
            "0    0.998913\n",
            "1    0.001087\n",
            "Name: proportion, dtype: float64\n"
          ]
        }
      ],
      "source": [
        "print(\"Training set shape: \", X_train.shape)\n",
        "print(\"Validation set shape: \", X_val.shape)\n",
        "print(\"Test set shape: \", X_test.shape)\n",
        "\n",
        "print(\"\\nClass distribution in each split:\")\n",
        "print(\"Train:\\n\", y_train.value_counts(normalize=True))\n",
        "print(\"Validation:\\n\", y_val.value_counts(normalize=True))\n",
        "print(\"Test:\\n\", y_test.value_counts(normalize=True))\n"
      ]
    },
    {
      "cell_type": "code",
      "execution_count": 27,
      "metadata": {
        "colab": {
          "base_uri": "https://localhost:8080/"
        },
        "id": "8DdYfpGxb9mg",
        "outputId": "d4900ffe-4de8-4ceb-c59a-39ac2dd5b14a"
      },
      "outputs": [
        {
          "name": "stdout",
          "output_type": "stream",
          "text": [
            "Fraudulent transactions: 1142\n",
            "Non-fraudulent transactions: 1047433\n",
            "Flagged as fraud (by system): 0\n"
          ]
        }
      ],
      "source": [
        "num_fraud = (data[\"isFraud\"] == 1).sum()\n",
        "num_non_fraud = (data[\"isFraud\"] == 0).sum()\n",
        "num_flagged_fraud = (data[\"isFlaggedFraud\"] == 1).sum()\n",
        "\n",
        "print(f\"Fraudulent transactions: {num_fraud}\")\n",
        "print(f\"Non-fraudulent transactions: {num_non_fraud}\")\n",
        "print(f\"Flagged as fraud (by system): {num_flagged_fraud}\")\n"
      ]
    },
    {
      "cell_type": "markdown",
      "metadata": {
        "id": "yJI4GWtceseD"
      },
      "source": [
        " Preprocessing and Class Balancing\n",
        "Because i am working on a fraud detection problem with extreme class imbalance, i need to:\n",
        "\n",
        "✅ Step 1: Handle Class Imbalance with SMOTEENN (on training set only)\n",
        "This helps the model see more fraud cases during training."
      ]
    },
    {
      "cell_type": "code",
      "execution_count": 28,
      "metadata": {
        "colab": {
          "base_uri": "https://localhost:8080/"
        },
        "id": "ugCwK7HzfW8-",
        "outputId": "84258b02-9b0f-4efc-f996-c71cd5bba61d"
      },
      "outputs": [
        {
          "name": "stdout",
          "output_type": "stream",
          "text": [
            "After SMOTE (balanced y_train):\n",
            "isFraud\n",
            "0    628459\n",
            "1    628459\n",
            "Name: count, dtype: int64\n"
          ]
        }
      ],
      "source": [
        "from imblearn.over_sampling import SMOTE\n",
        "\n",
        "smote = SMOTE(random_state=42)\n",
        "X_train, y_train = smote.fit_resample(X_train, y_train)\n",
        "\n",
        "# Optional: Check class balance\n",
        "# Count of each class in training set\n",
        "print(\"After SMOTE (balanced y_train):\")\n",
        "print(pd.Series(y_train).value_counts())\n"
      ]
    },
    {
      "cell_type": "code",
      "execution_count": 29,
      "metadata": {
        "colab": {
          "base_uri": "https://localhost:8080/"
        },
        "id": "foQZ-HmziuFX",
        "outputId": "0824d827-e9ce-4962-9e73-d7d3753a7bd4"
      },
      "outputs": [
        {
          "name": "stdout",
          "output_type": "stream",
          "text": [
            "Fitting and transforming X_train...\n",
            "X_train_scaled shape: (1256918, 11)\n",
            "Transforming X_val...\n",
            "X_val_scaled shape: (209715, 11)\n",
            "Transforming X_test...\n",
            "X_test_scaled shape: (209715, 11)\n"
          ]
        }
      ],
      "source": [
        "from sklearn.preprocessing import StandardScaler\n",
        "\n",
        "# Create the scaler\n",
        "scaler = StandardScaler()\n",
        "\n",
        "# Fit the scaler on the training data and transform\n",
        "print(\"Fitting and transforming X_train...\")\n",
        "X_train_scaled = scaler.fit_transform(X_train)\n",
        "print(f\"X_train_scaled shape: {X_train_scaled.shape}\")\n",
        "\n",
        "# Transform validation and test sets\n",
        "print(\"Transforming X_val...\")\n",
        "X_val_scaled = scaler.transform(X_val)\n",
        "print(f\"X_val_scaled shape: {X_val_scaled.shape}\")\n",
        "\n",
        "print(\"Transforming X_test...\")\n",
        "X_test_scaled = scaler.transform(X_test)\n",
        "print(f\"X_test_scaled shape: {X_test_scaled.shape}\")\n"
      ]
    },
    {
      "cell_type": "code",
      "execution_count": 12,
      "metadata": {
        "id": "Dow7rx1Trxms"
      },
      "outputs": [],
      "source": [
        "from xgboost import XGBClassifier\n",
        "from sklearn.model_selection import RandomizedSearchCV\n",
        "from sklearn.metrics import classification_report, confusion_matrix\n",
        "import joblib\n"
      ]
    },
    {
      "cell_type": "code",
      "execution_count": 16,
      "metadata": {
        "colab": {
          "base_uri": "https://localhost:8080/"
        },
        "id": "PEFJpRi6r2Fa",
        "outputId": "c5d1fc80-5427-4b5d-dfc1-857930308d0a"
      },
      "outputs": [
        {
          "name": "stdout",
          "output_type": "stream",
          "text": [
            "Fitting 3 folds for each of 6 candidates, totalling 18 fits\n",
            "Best Logistic Regression Parameters:\n",
            "{'C': 1, 'class_weight': 'balanced', 'penalty': 'l1', 'solver': 'liblinear'}\n",
            "\n",
            "Logistic Regression Classification Report:\n",
            "              precision    recall  f1-score   support\n",
            "\n",
            "           0       1.00      0.95      0.97    209487\n",
            "           1       0.02      0.95      0.04       228\n",
            "\n",
            "    accuracy                           0.95    209715\n",
            "   macro avg       0.51      0.95      0.50    209715\n",
            "weighted avg       1.00      0.95      0.97    209715\n",
            "\n"
          ]
        }
      ],
      "source": [
        "from sklearn.linear_model import LogisticRegression\n",
        "from sklearn.model_selection import GridSearchCV\n",
        "from sklearn.metrics import classification_report\n",
        "import joblib\n",
        "\n",
        "# ✅ Use balanced & scaled training set\n",
        "# Assuming you have:\n",
        "# X_train_scaled (from X_train_balanced)\n",
        "# y_train_balanced\n",
        "\n",
        "# 💡 Reduced parameter grid (only essential, 6 combos)\n",
        "lr_params = {\n",
        "    'penalty': ['l1', 'l2'],\n",
        "    'C': [0.01, 0.1, 1],\n",
        "    'solver': ['liblinear'],  # supports both l1 and l2\n",
        "    'class_weight': ['balanced']\n",
        "}\n",
        "\n",
        "# Create logistic regression model\n",
        "lr = LogisticRegression(max_iter=200)\n",
        "\n",
        "# GridSearch with 3-fold CV\n",
        "lr_grid = GridSearchCV(\n",
        "    estimator=lr,\n",
        "    param_grid=lr_params,\n",
        "    scoring='f1',\n",
        "    cv=3,\n",
        "    verbose=1,\n",
        "    n_jobs=-1\n",
        ")\n",
        "\n",
        "# ⏱️ Fit the model\n",
        "lr_grid.fit(X_train_scaled, y_train)\n",
        "\n",
        "# 🏆 Best model and parameters\n",
        "best_lr = lr_grid.best_estimator_\n",
        "print(\"Best Logistic Regression Parameters:\")\n",
        "print(lr_grid.best_params_)\n",
        "\n",
        "# 📊 Evaluate on validation set\n",
        "y_pred_lr = best_lr.predict(X_val_scaled)\n",
        "print(\"\\nLogistic Regression Classification Report:\")\n",
        "print(classification_report(y_val, y_pred_lr))\n",
        "\n",
        "\n"
      ]
    },
    {
      "cell_type": "code",
      "execution_count": 17,
      "metadata": {
        "colab": {
          "base_uri": "https://localhost:8080/",
          "height": 472
        },
        "id": "N4YT49BCi8al",
        "outputId": "83bf0f93-f0bc-4ffc-b65d-63e7c8921bae"
      },
      "outputs": [
        {
          "data": {
            "image/png": "[encoded data removed]",
            "text/plain": [
              "<Figure size 640x480 with 2 Axes>"
            ]
          },
          "metadata": {},
          "output_type": "display_data"
        }
      ],
      "source": [
        "import matplotlib.pyplot as plt\n",
        "import seaborn as sns\n",
        "\n",
        "#Confusion matrix\n",
        "\n",
        "conf_matrix_log = confusion_matrix(y_val, y_pred_lr)\n",
        "sns.heatmap(conf_matrix_log, annot=True, fmt='d', cmap='Greens')\n",
        "plt.title('Confusion Matrix - Logistic Regression')\n",
        "plt.xlabel('Predicted')\n",
        "plt.ylabel('Actual')\n",
        "plt.show()"
      ]
    },
    {
      "cell_type": "code",
      "execution_count": 18,
      "metadata": {
        "id": "y8b0IBrLjkrd"
      },
      "outputs": [],
      "source": [
        "import os\n",
        "\n",
        "# Create the folder if it doesn't already exist\n",
        "os.makedirs('saved_models', exist_ok=True)\n"
      ]
    },
    {
      "cell_type": "code",
      "execution_count": 19,
      "metadata": {
        "colab": {
          "base_uri": "https://localhost:8080/"
        },
        "id": "GSEw7Sq8j_ZV",
        "outputId": "db5b7f3c-9cb9-4f83-cd17-a29122ced84f"
      },
      "outputs": [
        {
          "data": {
            "text/plain": [
              "['saved_models/logistic_regression_model.pkl']"
            ]
          },
          "execution_count": 19,
          "metadata": {},
          "output_type": "execute_result"
        }
      ],
      "source": [
        "import joblib\n",
        "\n",
        "joblib.dump(best_lr, 'saved_models/logistic_regression_model.pkl')"
      ]
    },
    {
      "cell_type": "markdown",
      "metadata": {
        "id": "ve4AiQmGMzIN"
      },
      "source": [
        "#SECTION 1: Model Architecture:\n",
        "\n",
        "\n",
        "\n",
        "```\n",
        "TODO: Insert an image with the Model architecture here.Replace the image Below\n",
        "```\n",
        "> <img src=\"https://miro.medium.com/v2/resize:fit:640/format:webp/1*v1ohAG82xmU6WGsG2hoE8g.png\" alt=\"?\" style=\"width:25px\"/>\n",
        "\n",
        "\n"
      ]
    },
    {
      "cell_type": "markdown",
      "metadata": {
        "id": "QR4BNYoUMzMP"
      },
      "source": [
        "#Task: Define a function that creates models without and With specified Optimization techniques\n"
      ]
    },
    {
      "cell_type": "markdown",
      "metadata": {
        "id": "QT39JY5Jrtsa"
      },
      "source": [
        "**Basic Neural Network (No Optimization)**"
      ]
    },
    {
      "cell_type": "code",
      "execution_count": 20,
      "metadata": {
        "id": "SKj-eWYOn-ab"
      },
      "outputs": [],
      "source": [
        "import tensorflow as tf\n",
        "from tensorflow.keras.models import Sequential\n",
        "from tensorflow.keras.layers import Dense\n",
        "from sklearn.metrics import classification_report\n"
      ]
    },
    {
      "cell_type": "code",
      "execution_count": 21,
      "metadata": {
        "id": "gGtPmYb_SDHy"
      },
      "outputs": [],
      "source": [
        "from tensorflow.keras.optimizers import Adam, RMSprop\n",
        "from tensorflow.keras.regularizers import l2 # Corrected import statement\n",
        "from tensorflow.keras.callbacks import EarlyStopping\n",
        "\n",
        "\n",
        "# Build the model (Instance 1)\n",
        "model_1 = Sequential([\n",
        "    Dense(64, activation='relu', input_shape=(X_train_scaled.shape[1],)),\n",
        "    Dense(32, activation='relu'),\n",
        "    Dense(1, activation='sigmoid')\n",
        "])"
      ]
    },
    {
      "cell_type": "code",
      "execution_count": 22,
      "metadata": {
        "colab": {
          "base_uri": "https://localhost:8080/"
        },
        "id": "dkb-knNmokkO",
        "outputId": "e9920cf2-084f-4b23-8ae1-196566e8b0f4"
      },
      "outputs": [
        {
          "name": "stdout",
          "output_type": "stream",
          "text": [
            "Epoch 1/10\n",
            "\u001b[1m39279/39279\u001b[0m \u001b[32m━━━━━━━━━━━━━━━━━━━━\u001b[0m\u001b[37m\u001b[0m \u001b[1m91s\u001b[0m 2ms/step - accuracy: 0.9499 - loss: 0.1186 - val_accuracy: 0.9770 - val_loss: 0.0648\n",
            "Epoch 2/10\n",
            "\u001b[1m39279/39279\u001b[0m \u001b[32m━━━━━━━━━━━━━━━━━━━━\u001b[0m\u001b[37m\u001b[0m \u001b[1m92s\u001b[0m 2ms/step - accuracy: 0.9714 - loss: 0.0676 - val_accuracy: 0.9847 - val_loss: 0.0459\n",
            "Epoch 3/10\n",
            "\u001b[1m39279/39279\u001b[0m \u001b[32m━━━━━━━━━━━━━━━━━━━━\u001b[0m\u001b[37m\u001b[0m \u001b[1m91s\u001b[0m 2ms/step - accuracy: 0.9757 - loss: 0.0592 - val_accuracy: 0.9845 - val_loss: 0.0440\n",
            "Epoch 4/10\n",
            "\u001b[1m39279/39279\u001b[0m \u001b[32m━━━━━━━━━━━━━━━━━━━━\u001b[0m\u001b[37m\u001b[0m \u001b[1m89s\u001b[0m 2ms/step - accuracy: 0.9777 - loss: 0.0541 - val_accuracy: 0.9814 - val_loss: 0.0513\n",
            "Epoch 5/10\n",
            "\u001b[1m39279/39279\u001b[0m \u001b[32m━━━━━━━━━━━━━━━━━━━━\u001b[0m\u001b[37m\u001b[0m \u001b[1m114s\u001b[0m 3ms/step - accuracy: 0.9796 - loss: 0.0500 - val_accuracy: 0.9799 - val_loss: 0.0505\n",
            "Epoch 6/10\n",
            "\u001b[1m39279/39279\u001b[0m \u001b[32m━━━━━━━━━━━━━━━━━━━━\u001b[0m\u001b[37m\u001b[0m \u001b[1m151s\u001b[0m 4ms/step - accuracy: 0.9809 - loss: 0.0467 - val_accuracy: 0.9734 - val_loss: 0.0673\n",
            "Epoch 7/10\n",
            "\u001b[1m39279/39279\u001b[0m \u001b[32m━━━━━━━━━━━━━━━━━━━━\u001b[0m\u001b[37m\u001b[0m \u001b[1m105s\u001b[0m 3ms/step - accuracy: 0.9818 - loss: 0.0444 - val_accuracy: 0.9699 - val_loss: 0.0762\n",
            "Epoch 8/10\n",
            "\u001b[1m39279/39279\u001b[0m \u001b[32m━━━━━━━━━━━━━━━━━━━━\u001b[0m\u001b[37m\u001b[0m \u001b[1m91s\u001b[0m 2ms/step - accuracy: 0.9830 - loss: 0.0423 - val_accuracy: 0.9881 - val_loss: 0.0327\n",
            "Epoch 9/10\n",
            "\u001b[1m39279/39279\u001b[0m \u001b[32m━━━━━━━━━━━━━━━━━━━━\u001b[0m\u001b[37m\u001b[0m \u001b[1m94s\u001b[0m 2ms/step - accuracy: 0.9841 - loss: 0.0398 - val_accuracy: 0.9751 - val_loss: 0.0681\n",
            "Epoch 10/10\n",
            "\u001b[1m39279/39279\u001b[0m \u001b[32m━━━━━━━━━━━━━━━━━━━━\u001b[0m\u001b[37m\u001b[0m \u001b[1m175s\u001b[0m 4ms/step - accuracy: 0.9845 - loss: 0.0386 - val_accuracy: 0.9902 - val_loss: 0.0287\n"
          ]
        }
      ],
      "source": [
        "# Compile with defaults (no optimizer tuning)\n",
        "model_1.compile(loss='binary_crossentropy', optimizer='adam', metrics=['accuracy'])\n",
        "\n",
        "# Train on balanced and scaled data (NO EarlyStopping)\n",
        "history_1 = model_1.fit(\n",
        "    X_train_scaled,\n",
        "    y_train,\n",
        "    epochs=10,  # keep short to avoid overfitting\n",
        "    batch_size=32,\n",
        "    validation_data=(X_val_scaled, y_val),\n",
        "    verbose=1\n",
        ")"
      ]
    },
    {
      "cell_type": "code",
      "execution_count": 23,
      "metadata": {
        "colab": {
          "base_uri": "https://localhost:8080/"
        },
        "id": "MyoqLBAstvrd",
        "outputId": "7ecb29ec-a908-495b-cdc3-4b65c89bd19c"
      },
      "outputs": [
        {
          "name": "stdout",
          "output_type": "stream",
          "text": [
            "\u001b[1m6554/6554\u001b[0m \u001b[32m━━━━━━━━━━━━━━━━━━━━\u001b[0m\u001b[37m\u001b[0m \u001b[1m8s\u001b[0m 1ms/step\n",
            "Classification Report - Basic Neural Network (Instance 1):\n",
            "              precision    recall  f1-score   support\n",
            "\n",
            "           0       1.00      0.99      1.00    209487\n",
            "           1       0.09      0.93      0.17       228\n",
            "\n",
            "    accuracy                           0.99    209715\n",
            "   macro avg       0.55      0.96      0.58    209715\n",
            "weighted avg       1.00      0.99      0.99    209715\n",
            "\n"
          ]
        }
      ],
      "source": [
        "# Predict on validation set\n",
        "y_pred_nn_1 = (model_1.predict(X_val_scaled) > 0.5).astype(\"int32\")\n",
        "\n",
        "# Evaluate\n",
        "print(\"Classification Report - Basic Neural Network (Instance 1):\")\n",
        "print(classification_report(y_val, y_pred_nn_1))\n"
      ]
    },
    {
      "cell_type": "code",
      "execution_count": 24,
      "metadata": {
        "id": "iKR5yMKAt__4"
      },
      "outputs": [],
      "source": [
        "model_1.save('saved_models/nn_instance1_basic.keras')\n"
      ]
    },
    {
      "cell_type": "markdown",
      "metadata": {
        "id": "KJ9OXp1TSaXn"
      },
      "source": [
        "# Task: Print out the Final Model Accuracy and plot the Loss curve"
      ]
    },
    {
      "cell_type": "code",
      "execution_count": 25,
      "metadata": {
        "colab": {
          "base_uri": "https://localhost:8080/",
          "height": 507
        },
        "id": "fkihQBsaUxGh",
        "outputId": "7516f0d3-3787-44c9-a09c-c98bc07e6dc8"
      },
      "outputs": [
        {
          "data": {
            "image/png": "[encoded data removed]",
            "text/plain": [
              "<Figure size 800x500 with 1 Axes>"
            ]
          },
          "metadata": {},
          "output_type": "display_data"
        }
      ],
      "source": [
        "import matplotlib.pyplot as plt\n",
        "\n",
        "# Plot training and validation loss\n",
        "plt.figure(figsize=(8, 5))\n",
        "plt.plot(history_1.history['loss'], label='Training Loss', linewidth=2)\n",
        "plt.plot(history_1.history['val_loss'], label='Validation Loss', linewidth=2)\n",
        "plt.title('Loss Curve - Basic Neural Network (Instance 1)')\n",
        "plt.xlabel('Epoch')\n",
        "plt.ylabel('Binary Cross-Entropy Loss')\n",
        "plt.legend()\n",
        "plt.grid(True)\n",
        "plt.tight_layout()\n",
        "plt.show()\n"
      ]
    },
    {
      "cell_type": "code",
      "execution_count": 26,
      "metadata": {
        "colab": {
          "base_uri": "https://localhost:8080/",
          "height": 507
        },
        "id": "O3Dq107-xOkm",
        "outputId": "2aa4a386-a4aa-4d36-972b-a7705b54ea35"
      },
      "outputs": [
        {
          "data": {
            "image/png": "[encoded data removed]",
            "text/plain": [
              "<Figure size 800x500 with 1 Axes>"
            ]
          },
          "metadata": {},
          "output_type": "display_data"
        }
      ],
      "source": [
        "# Plot accuracy (optional)\n",
        "plt.figure(figsize=(8, 5))\n",
        "plt.plot(history_1.history['accuracy'], label='Training Accuracy', linewidth=2)\n",
        "plt.plot(history_1.history['val_accuracy'], label='Validation Accuracy', linewidth=2)\n",
        "plt.title('Accuracy Curve - Basic Neural Network (Instance 1)')\n",
        "plt.xlabel('Epoch')\n",
        "plt.ylabel('Accuracy')\n",
        "plt.legend()\n",
        "plt.grid(True)\n",
        "plt.tight_layout()\n",
        "plt.show()\n"
      ]
    },
    {
      "cell_type": "markdown",
      "metadata": {
        "id": "9hc6k2taT0_n"
      },
      "source": [
        "# SECTION 2: Optimization and Regularization Combinations\n",
        "At this point you should now create models that combine various optimization techniques\n",
        "As done before make sure to plot out the loss curve and the accuracy and loss in verbose"
      ]
    },
    {
      "cell_type": "code",
      "execution_count": 27,
      "metadata": {
        "colab": {
          "base_uri": "https://localhost:8080/"
        },
        "id": "nr6HuVEtXvoP",
        "outputId": "1c0e7bda-dd7c-4926-bfaf-6b3286cf586f"
      },
      "outputs": [
        {
          "name": "stdout",
          "output_type": "stream",
          "text": [
            "Epoch 1/50\n",
            "\u001b[1m19640/19640\u001b[0m \u001b[32m━━━━━━━━━━━━━━━━━━━━\u001b[0m\u001b[37m\u001b[0m \u001b[1m53s\u001b[0m 3ms/step - accuracy: 0.9159 - loss: 0.3330 - val_accuracy: 0.9821 - val_loss: 0.1431\n",
            "Epoch 2/50\n",
            "\u001b[1m19640/19640\u001b[0m \u001b[32m━━━━━━━━━━━━━━━━━━━━\u001b[0m\u001b[37m\u001b[0m \u001b[1m81s\u001b[0m 3ms/step - accuracy: 0.9392 - loss: 0.2083 - val_accuracy: 0.9339 - val_loss: 0.2182\n",
            "Epoch 3/50\n",
            "\u001b[1m19640/19640\u001b[0m \u001b[32m━━━━━━━━━━━━━━━━━━━━\u001b[0m\u001b[37m\u001b[0m \u001b[1m51s\u001b[0m 3ms/step - accuracy: 0.9435 - loss: 0.1931 - val_accuracy: 0.8712 - val_loss: 0.2933\n",
            "Epoch 4/50\n",
            "\u001b[1m19640/19640\u001b[0m \u001b[32m━━━━━━━━━━━━━━━━━━━━\u001b[0m\u001b[37m\u001b[0m \u001b[1m49s\u001b[0m 2ms/step - accuracy: 0.9454 - loss: 0.1857 - val_accuracy: 0.9468 - val_loss: 0.2058\n",
            "Epoch 5/50\n",
            "\u001b[1m19640/19640\u001b[0m \u001b[32m━━━━━━━━━━━━━━━━━━━━\u001b[0m\u001b[37m\u001b[0m \u001b[1m51s\u001b[0m 3ms/step - accuracy: 0.9476 - loss: 0.1789 - val_accuracy: 0.9287 - val_loss: 0.2194\n",
            "Epoch 6/50\n",
            "\u001b[1m19640/19640\u001b[0m \u001b[32m━━━━━━━━━━━━━━━━━━━━\u001b[0m\u001b[37m\u001b[0m \u001b[1m51s\u001b[0m 3ms/step - accuracy: 0.9495 - loss: 0.1732 - val_accuracy: 0.9781 - val_loss: 0.1391\n",
            "Epoch 7/50\n",
            "\u001b[1m19640/19640\u001b[0m \u001b[32m━━━━━━━━━━━━━━━━━━━━\u001b[0m\u001b[37m\u001b[0m \u001b[1m57s\u001b[0m 3ms/step - accuracy: 0.9514 - loss: 0.1687 - val_accuracy: 0.9793 - val_loss: 0.1289\n",
            "Epoch 8/50\n",
            "\u001b[1m19640/19640\u001b[0m \u001b[32m━━━━━━━━━━━━━━━━━━━━\u001b[0m\u001b[37m\u001b[0m \u001b[1m53s\u001b[0m 3ms/step - accuracy: 0.9527 - loss: 0.1650 - val_accuracy: 0.9749 - val_loss: 0.1349\n",
            "Epoch 9/50\n",
            "\u001b[1m19640/19640\u001b[0m \u001b[32m━━━━━━━━━━━━━━━━━━━━\u001b[0m\u001b[37m\u001b[0m \u001b[1m54s\u001b[0m 3ms/step - accuracy: 0.9530 - loss: 0.1627 - val_accuracy: 0.9800 - val_loss: 0.1228\n",
            "Epoch 10/50\n",
            "\u001b[1m19640/19640\u001b[0m \u001b[32m━━━━━━━━━━━━━━━━━━━━\u001b[0m\u001b[37m\u001b[0m \u001b[1m52s\u001b[0m 3ms/step - accuracy: 0.9537 - loss: 0.1596 - val_accuracy: 0.9794 - val_loss: 0.1285\n",
            "Epoch 11/50\n",
            "\u001b[1m19640/19640\u001b[0m \u001b[32m━━━━━━━━━━━━━━━━━━━━\u001b[0m\u001b[37m\u001b[0m \u001b[1m72s\u001b[0m 4ms/step - accuracy: 0.9539 - loss: 0.1579 - val_accuracy: 0.9583 - val_loss: 0.1617\n",
            "Epoch 12/50\n",
            "\u001b[1m19640/19640\u001b[0m \u001b[32m━━━━━━━━━━━━━━━━━━━━\u001b[0m\u001b[37m\u001b[0m \u001b[1m68s\u001b[0m 3ms/step - accuracy: 0.9545 - loss: 0.1558 - val_accuracy: 0.9693 - val_loss: 0.1440\n",
            "Epoch 13/50\n",
            "\u001b[1m19640/19640\u001b[0m \u001b[32m━━━━━━━━━━━━━━━━━━━━\u001b[0m\u001b[37m\u001b[0m \u001b[1m51s\u001b[0m 3ms/step - accuracy: 0.9543 - loss: 0.1547 - val_accuracy: 0.9879 - val_loss: 0.0989\n",
            "Epoch 14/50\n",
            "\u001b[1m19640/19640\u001b[0m \u001b[32m━━━━━━━━━━━━━━━━━━━━\u001b[0m\u001b[37m\u001b[0m \u001b[1m57s\u001b[0m 3ms/step - accuracy: 0.9547 - loss: 0.1529 - val_accuracy: 0.9789 - val_loss: 0.1243\n",
            "Epoch 15/50\n",
            "\u001b[1m19640/19640\u001b[0m \u001b[32m━━━━━━━━━━━━━━━━━━━━\u001b[0m\u001b[37m\u001b[0m \u001b[1m52s\u001b[0m 3ms/step - accuracy: 0.9554 - loss: 0.1510 - val_accuracy: 0.9900 - val_loss: 0.0800\n",
            "Epoch 16/50\n",
            "\u001b[1m19640/19640\u001b[0m \u001b[32m━━━━━━━━━━━━━━━━━━━━\u001b[0m\u001b[37m\u001b[0m \u001b[1m51s\u001b[0m 3ms/step - accuracy: 0.9561 - loss: 0.1496 - val_accuracy: 0.9743 - val_loss: 0.1272\n",
            "Epoch 17/50\n",
            "\u001b[1m19640/19640\u001b[0m \u001b[32m━━━━━━━━━━━━━━━━━━━━\u001b[0m\u001b[37m\u001b[0m \u001b[1m54s\u001b[0m 3ms/step - accuracy: 0.9563 - loss: 0.1488 - val_accuracy: 0.9192 - val_loss: 0.1984\n",
            "Epoch 18/50\n",
            "\u001b[1m19640/19640\u001b[0m \u001b[32m━━━━━━━━━━━━━━━━━━━━\u001b[0m\u001b[37m\u001b[0m \u001b[1m71s\u001b[0m 4ms/step - accuracy: 0.9564 - loss: 0.1475 - val_accuracy: 0.9728 - val_loss: 0.1346\n",
            "Epoch 19/50\n",
            "\u001b[1m19640/19640\u001b[0m \u001b[32m━━━━━━━━━━━━━━━━━━━━\u001b[0m\u001b[37m\u001b[0m \u001b[1m77s\u001b[0m 3ms/step - accuracy: 0.9564 - loss: 0.1465 - val_accuracy: 0.9258 - val_loss: 0.1991\n",
            "Epoch 20/50\n",
            "\u001b[1m19640/19640\u001b[0m \u001b[32m━━━━━━━━━━━━━━━━━━━━\u001b[0m\u001b[37m\u001b[0m \u001b[1m67s\u001b[0m 3ms/step - accuracy: 0.9568 - loss: 0.1453 - val_accuracy: 0.9396 - val_loss: 0.1836\n"
          ]
        }
      ],
      "source": [
        "from tensorflow.keras.models import Sequential\n",
        "from tensorflow.keras.layers import Dense\n",
        "from tensorflow.keras.optimizers import RMSprop\n",
        "from tensorflow.keras.regularizers import l2\n",
        "from tensorflow.keras.callbacks import EarlyStopping\n",
        "\n",
        "# Optimizer with custom learning rate\n",
        "optimizer = RMSprop(learning_rate=0.0005)\n",
        "\n",
        "# Early stopping\n",
        "early_stop = EarlyStopping(monitor='val_loss', patience=5, restore_best_weights=True)\n",
        "\n",
        "# Model architecture\n",
        "model_2 = Sequential([\n",
        "    Dense(128, activation='relu', kernel_regularizer=l2(0.01), input_shape=(X_train_scaled.shape[1],)),\n",
        "    Dense(64, activation='relu', kernel_regularizer=l2(0.01)),\n",
        "    Dense(32, activation='relu', kernel_regularizer=l2(0.01)),\n",
        "    Dense(1, activation='sigmoid')\n",
        "])\n",
        "\n",
        "# Compile model\n",
        "model_2.compile(\n",
        "    optimizer=optimizer,\n",
        "    loss='binary_crossentropy',\n",
        "    metrics=['accuracy']\n",
        ")\n",
        "\n",
        "# Train model\n",
        "history_2 = model_2.fit(\n",
        "    X_train_scaled, y_train,\n",
        "    validation_data=(X_val_scaled, y_val),\n",
        "    epochs=50,\n",
        "    batch_size=64,\n",
        "    callbacks=[early_stop],\n",
        "    verbose=1\n",
        ")\n"
      ]
    },
    {
      "cell_type": "code",
      "execution_count": 28,
      "metadata": {
        "colab": {
          "base_uri": "https://localhost:8080/"
        },
        "id": "7yiomBBO1T-p",
        "outputId": "51ee52bd-6c54-44e2-ae7d-702b69951d94"
      },
      "outputs": [
        {
          "name": "stdout",
          "output_type": "stream",
          "text": [
            "\n",
            "✅ Instance 2 - Final Validation Accuracy: 0.9900\n"
          ]
        }
      ],
      "source": [
        "# Evaluate accuracy\n",
        "val_loss_2, val_acc_2 = model_2.evaluate(X_val_scaled, y_val, verbose=0)\n",
        "print(f\"\\n✅ Instance 2 - Final Validation Accuracy: {val_acc_2:.4f}\")\n",
        "# Save model\n",
        "model_2.save('saved_models/nn_instance2_optimized.keras')\n"
      ]
    },
    {
      "cell_type": "code",
      "execution_count": 29,
      "metadata": {
        "colab": {
          "base_uri": "https://localhost:8080/",
          "height": 427
        },
        "id": "ADTs_Imr1lC4",
        "outputId": "8246f409-be50-4f00-d76b-3fa14352c14f"
      },
      "outputs": [
        {
          "name": "stdout",
          "output_type": "stream",
          "text": [
            "\u001b[1m6554/6554\u001b[0m \u001b[32m━━━━━━━━━━━━━━━━━━━━\u001b[0m\u001b[37m\u001b[0m \u001b[1m10s\u001b[0m 1ms/step\n"
          ]
        },
        {
          "data": {
            "image/png": "[encoded data removed]",
            "text/plain": [
              "<Figure size 500x400 with 2 Axes>"
            ]
          },
          "metadata": {},
          "output_type": "display_data"
        }
      ],
      "source": [
        "import numpy as np\n",
        "from sklearn.metrics import confusion_matrix, classification_report, accuracy_score, f1_score, precision_score, recall_score\n",
        "\n",
        "# Predict (convert probabilities to 0/1)\n",
        "y_pred_2 = (model_2.predict(X_val_scaled) > 0.5).astype('int32')\n",
        "# Confusion Matrix\n",
        "cm_2 = confusion_matrix(y_val, y_pred_2)\n",
        "\n",
        "import seaborn as sns\n",
        "import matplotlib.pyplot as plt\n",
        "\n",
        "plt.figure(figsize=(5, 4))\n",
        "sns.heatmap(cm_2, annot=True, fmt='d', cmap='Blues')\n",
        "plt.title('Confusion Matrix - NN Instance 2')\n",
        "plt.xlabel('Predicted')\n",
        "plt.ylabel('Actual')\n",
        "plt.show()\n"
      ]
    },
    {
      "cell_type": "code",
      "execution_count": 30,
      "metadata": {
        "colab": {
          "base_uri": "https://localhost:8080/"
        },
        "id": "JxHIsHqw15k9",
        "outputId": "8317f1c0-c2da-4310-c270-bdbb63d7beec"
      },
      "outputs": [
        {
          "name": "stdout",
          "output_type": "stream",
          "text": [
            "Classification Report - NN Instance 2:\n",
            "              precision    recall  f1-score   support\n",
            "\n",
            "           0       1.00      0.99      0.99    209487\n",
            "           1       0.09      0.88      0.16       228\n",
            "\n",
            "    accuracy                           0.99    209715\n",
            "   macro avg       0.54      0.93      0.58    209715\n",
            "weighted avg       1.00      0.99      0.99    209715\n",
            "\n",
            "Accuracy:  0.9900\n",
            "Precision: 0.0883\n",
            "Recall:    0.8772\n",
            "F1 Score:  0.1605\n"
          ]
        }
      ],
      "source": [
        "# Classification Report\n",
        "print(\"Classification Report - NN Instance 2:\")\n",
        "print(classification_report(y_val, y_pred_2))\n",
        "\n",
        "# Individual Metrics (for summary table)\n",
        "accuracy_2 = accuracy_score(y_val, y_pred_2)\n",
        "f1_2 = f1_score(y_val, y_pred_2)\n",
        "precision_2 = precision_score(y_val, y_pred_2)\n",
        "recall_2 = recall_score(y_val, y_pred_2)\n",
        "\n",
        "print(f\"Accuracy:  {accuracy_2:.4f}\")\n",
        "print(f\"Precision: {precision_2:.4f}\")\n",
        "print(f\"Recall:    {recall_2:.4f}\")\n",
        "print(f\"F1 Score:  {f1_2:.4f}\")\n"
      ]
    },
    {
      "cell_type": "code",
      "execution_count": 31,
      "metadata": {
        "colab": {
          "base_uri": "https://localhost:8080/"
        },
        "id": "Pcgu0YTF1_ox",
        "outputId": "eeb3719e-c381-4362-cbf9-bc0796f1a110"
      },
      "outputs": [
        {
          "name": "stdout",
          "output_type": "stream",
          "text": [
            "{'Instance': '2', 'Optimizer': 'RMSprop', 'Regularizer': 'L2', 'Epochs': 20, 'EarlyStopping': 'Yes', 'Layers': 4, 'LearningRate': 0.0005, 'Accuracy': 0.99, 'Precision': 0.0883, 'Recall': 0.8772, 'F1': 0.1605}\n"
          ]
        }
      ],
      "source": [
        "instance_2_metrics = {\n",
        "    \"Instance\": \"2\",\n",
        "    \"Optimizer\": \"RMSprop\",\n",
        "    \"Regularizer\": \"L2\",\n",
        "    \"Epochs\": len(history_2.history['loss']),\n",
        "    \"EarlyStopping\": \"Yes\",\n",
        "    \"Layers\": 4,\n",
        "    \"LearningRate\": 0.0005,\n",
        "    \"Accuracy\": round(accuracy_2, 4),\n",
        "    \"Precision\": round(precision_2, 4),\n",
        "    \"Recall\": round(recall_2, 4),\n",
        "    \"F1\": round(f1_2, 4)\n",
        "}\n",
        "\n",
        "print(instance_2_metrics)\n"
      ]
    },
    {
      "cell_type": "code",
      "execution_count": 32,
      "metadata": {
        "colab": {
          "base_uri": "https://localhost:8080/"
        },
        "id": "UygzqjB-Xvgo",
        "outputId": "9a975a55-e919-4392-a33b-64900b338782"
      },
      "outputs": [
        {
          "name": "stdout",
          "output_type": "stream",
          "text": [
            "Epoch 1/50\n",
            "\u001b[1m19640/19640\u001b[0m \u001b[32m━━━━━━━━━━━━━━━━━━━━\u001b[0m\u001b[37m\u001b[0m \u001b[1m56s\u001b[0m 3ms/step - accuracy: 0.9269 - loss: 0.1696 - val_accuracy: 0.9682 - val_loss: 0.0750\n",
            "Epoch 2/50\n",
            "\u001b[1m19640/19640\u001b[0m \u001b[32m━━━━━━━━━━━━━━━━━━━━\u001b[0m\u001b[37m\u001b[0m \u001b[1m51s\u001b[0m 3ms/step - accuracy: 0.9688 - loss: 0.0766 - val_accuracy: 0.9582 - val_loss: 0.1044\n",
            "Epoch 3/50\n",
            "\u001b[1m19640/19640\u001b[0m \u001b[32m━━━━━━━━━━━━━━━━━━━━\u001b[0m\u001b[37m\u001b[0m \u001b[1m55s\u001b[0m 3ms/step - accuracy: 0.9718 - loss: 0.0688 - val_accuracy: 0.9832 - val_loss: 0.0510\n",
            "Epoch 4/50\n",
            "\u001b[1m19640/19640\u001b[0m \u001b[32m━━━━━━━━━━━━━━━━━━━━\u001b[0m\u001b[37m\u001b[0m \u001b[1m54s\u001b[0m 3ms/step - accuracy: 0.9735 - loss: 0.0648 - val_accuracy: 0.9791 - val_loss: 0.0536\n",
            "Epoch 5/50\n",
            "\u001b[1m19640/19640\u001b[0m \u001b[32m━━━━━━━━━━━━━━━━━━━━\u001b[0m\u001b[37m\u001b[0m \u001b[1m56s\u001b[0m 3ms/step - accuracy: 0.9744 - loss: 0.0622 - val_accuracy: 0.9816 - val_loss: 0.0500\n",
            "Epoch 6/50\n",
            "\u001b[1m19640/19640\u001b[0m \u001b[32m━━━━━━━━━━━━━━━━━━━━\u001b[0m\u001b[37m\u001b[0m \u001b[1m54s\u001b[0m 3ms/step - accuracy: 0.9748 - loss: 0.0608 - val_accuracy: 0.9858 - val_loss: 0.0401\n",
            "Epoch 7/50\n",
            "\u001b[1m19640/19640\u001b[0m \u001b[32m━━━━━━━━━━━━━━━━━━━━\u001b[0m\u001b[37m\u001b[0m \u001b[1m53s\u001b[0m 3ms/step - accuracy: 0.9761 - loss: 0.0586 - val_accuracy: 0.9911 - val_loss: 0.0318\n",
            "Epoch 8/50\n",
            "\u001b[1m19640/19640\u001b[0m \u001b[32m━━━━━━━━━━━━━━━━━━━━\u001b[0m\u001b[37m\u001b[0m \u001b[1m56s\u001b[0m 3ms/step - accuracy: 0.9758 - loss: 0.0582 - val_accuracy: 0.9815 - val_loss: 0.0465\n",
            "Epoch 9/50\n",
            "\u001b[1m19640/19640\u001b[0m \u001b[32m━━━━━━━━━━━━━━━━━━━━\u001b[0m\u001b[37m\u001b[0m \u001b[1m55s\u001b[0m 3ms/step - accuracy: 0.9767 - loss: 0.0563 - val_accuracy: 0.9850 - val_loss: 0.0413\n",
            "Epoch 10/50\n",
            "\u001b[1m19640/19640\u001b[0m \u001b[32m━━━━━━━━━━━━━━━━━━━━\u001b[0m\u001b[37m\u001b[0m \u001b[1m54s\u001b[0m 3ms/step - accuracy: 0.9771 - loss: 0.0555 - val_accuracy: 0.9803 - val_loss: 0.0509\n",
            "Epoch 11/50\n",
            "\u001b[1m19640/19640\u001b[0m \u001b[32m━━━━━━━━━━━━━━━━━━━━\u001b[0m\u001b[37m\u001b[0m \u001b[1m74s\u001b[0m 4ms/step - accuracy: 0.9773 - loss: 0.0544 - val_accuracy: 0.9695 - val_loss: 0.0736\n",
            "Epoch 12/50\n",
            "\u001b[1m19640/19640\u001b[0m \u001b[32m━━━━━━━━━━━━━━━━━━━━\u001b[0m\u001b[37m\u001b[0m \u001b[1m78s\u001b[0m 4ms/step - accuracy: 0.9777 - loss: 0.0535 - val_accuracy: 0.9810 - val_loss: 0.0468\n"
          ]
        }
      ],
      "source": [
        "from tensorflow.keras.models import Sequential\n",
        "from tensorflow.keras.layers import Dense, Dropout\n",
        "from tensorflow.keras.optimizers import Adam\n",
        "from tensorflow.keras.callbacks import EarlyStopping\n",
        "\n",
        "# Optimizer with custom learning rate\n",
        "optimizer_3 = Adam(learning_rate=0.0003)\n",
        "\n",
        "# Early stopping\n",
        "early_stop_3 = EarlyStopping(monitor='val_loss', patience=5, restore_best_weights=True)\n",
        "\n",
        "# Define the model architecture\n",
        "model_3 = Sequential([\n",
        "    Dense(128, activation='relu', input_shape=(X_train_scaled.shape[1],)),\n",
        "    Dropout(0.3),\n",
        "    Dense(64, activation='relu'),\n",
        "    Dropout(0.3),\n",
        "    Dense(32, activation='relu'),\n",
        "    Dense(1, activation='sigmoid')\n",
        "])\n",
        "\n",
        "# Compile the model\n",
        "model_3.compile(\n",
        "    optimizer=optimizer_3,\n",
        "    loss='binary_crossentropy',\n",
        "    metrics=['accuracy']\n",
        ")\n",
        "\n",
        "# Train the model\n",
        "history_3 = model_3.fit(\n",
        "    X_train_scaled, y_train,\n",
        "    validation_data=(X_val_scaled, y_val),\n",
        "    epochs=50,\n",
        "    batch_size=64,\n",
        "    callbacks=[early_stop_3],\n",
        "    verbose=1\n",
        ")\n"
      ]
    },
    {
      "cell_type": "code",
      "execution_count": 33,
      "metadata": {
        "colab": {
          "base_uri": "https://localhost:8080/"
        },
        "id": "QRFeboro5PWu",
        "outputId": "abe59b05-7b28-4a73-e655-c8e9ebcd9004"
      },
      "outputs": [
        {
          "name": "stdout",
          "output_type": "stream",
          "text": [
            "\n",
            "✅ Instance 3 - Final Validation Accuracy: 0.9911\n"
          ]
        }
      ],
      "source": [
        "val_loss_3, val_acc_3 = model_3.evaluate(X_val_scaled, y_val, verbose=0)\n",
        "print(f\"\\n✅ Instance 3 - Final Validation Accuracy: {val_acc_3:.4f}\")\n",
        "\n",
        "# Save model\n",
        "model_3.save('saved_models/nn_instance3_optimized.keras')\n"
      ]
    },
    {
      "cell_type": "code",
      "execution_count": 34,
      "metadata": {
        "colab": {
          "base_uri": "https://localhost:8080/",
          "height": 670
        },
        "id": "o1SrEWRg5XqR",
        "outputId": "13fe9efe-fd1e-497a-abd9-de8b6e0c877c"
      },
      "outputs": [
        {
          "name": "stdout",
          "output_type": "stream",
          "text": [
            "\u001b[1m6554/6554\u001b[0m \u001b[32m━━━━━━━━━━━━━━━━━━━━\u001b[0m\u001b[37m\u001b[0m \u001b[1m10s\u001b[0m 2ms/step\n"
          ]
        },
        {
          "data": {
            "image/png": "[encoded data removed]",
            "text/plain": [
              "<Figure size 500x400 with 2 Axes>"
            ]
          },
          "metadata": {},
          "output_type": "display_data"
        },
        {
          "name": "stdout",
          "output_type": "stream",
          "text": [
            "Classification Report - NN Instance 3:\n",
            "              precision    recall  f1-score   support\n",
            "\n",
            "           0       1.00      0.99      1.00    209487\n",
            "           1       0.10      0.92      0.18       228\n",
            "\n",
            "    accuracy                           0.99    209715\n",
            "   macro avg       0.55      0.95      0.59    209715\n",
            "weighted avg       1.00      0.99      0.99    209715\n",
            "\n",
            "Accuracy:  0.9911\n",
            "Precision: 0.1016\n",
            "Recall:    0.9167\n",
            "F1 Score:  0.1829\n"
          ]
        }
      ],
      "source": [
        "# Predict on validation set\n",
        "y_pred_3 = (model_3.predict(X_val_scaled) > 0.5).astype('int32')\n",
        "\n",
        "# Confusion matrix\n",
        "cm_3 = confusion_matrix(y_val, y_pred_3)\n",
        "\n",
        "plt.figure(figsize=(5, 4))\n",
        "sns.heatmap(cm_3, annot=True, fmt='d', cmap='Purples')\n",
        "plt.title('Confusion Matrix - NN Instance 3')\n",
        "plt.xlabel('Predicted')\n",
        "plt.ylabel('Actual')\n",
        "plt.show()\n",
        "\n",
        "# Classification report\n",
        "print(\"Classification Report - NN Instance 3:\")\n",
        "print(classification_report(y_val, y_pred_3))\n",
        "\n",
        "# Individual metrics\n",
        "accuracy_3 = accuracy_score(y_val, y_pred_3)\n",
        "f1_3 = f1_score(y_val, y_pred_3)\n",
        "precision_3 = precision_score(y_val, y_pred_3)\n",
        "recall_3 = recall_score(y_val, y_pred_3)\n",
        "\n",
        "print(f\"Accuracy:  {accuracy_3:.4f}\")\n",
        "print(f\"Precision: {precision_3:.4f}\")\n",
        "print(f\"Recall:    {recall_3:.4f}\")\n",
        "print(f\"F1 Score:  {f1_3:.4f}\")\n"
      ]
    },
    {
      "cell_type": "code",
      "execution_count": 35,
      "metadata": {
        "colab": {
          "base_uri": "https://localhost:8080/"
        },
        "id": "6Hp8izH45qyA",
        "outputId": "c44f4eac-30b0-4550-e39f-ecec03f8af46"
      },
      "outputs": [
        {
          "name": "stdout",
          "output_type": "stream",
          "text": [
            "{'Instance': '3', 'Optimizer': 'Adam', 'Regularizer': 'Dropout (0.3)', 'Epochs': 12, 'EarlyStopping': 'Yes', 'Layers': 4, 'LearningRate': 0.0003, 'Accuracy': 0.9911, 'Precision': 0.1016, 'Recall': 0.9167, 'F1': 0.1829}\n"
          ]
        }
      ],
      "source": [
        "\n",
        "instance_3_metrics = {\n",
        "    \"Instance\": \"3\",\n",
        "    \"Optimizer\": \"Adam\",\n",
        "    \"Regularizer\": \"Dropout (0.3)\",\n",
        "    \"Epochs\": len(history_3.history['loss']),\n",
        "    \"EarlyStopping\": \"Yes\",\n",
        "    \"Layers\": 4,\n",
        "    \"LearningRate\": 0.0003,\n",
        "    \"Accuracy\": round(accuracy_3, 4),\n",
        "    \"Precision\": round(precision_3, 4),\n",
        "    \"Recall\": round(recall_3, 4),\n",
        "    \"F1\": round(f1_3, 4)\n",
        "}\n",
        "\n",
        "print(instance_3_metrics)\n"
      ]
    },
    {
      "cell_type": "code",
      "execution_count": 36,
      "metadata": {
        "colab": {
          "base_uri": "https://localhost:8080/"
        },
        "id": "9NEtnjqxXvXm",
        "outputId": "5731591c-ea2b-48e1-a415-7665b80ccce0"
      },
      "outputs": [
        {
          "name": "stdout",
          "output_type": "stream",
          "text": [
            "Epoch 1/50\n",
            "\u001b[1m19640/19640\u001b[0m \u001b[32m━━━━━━━━━━━━━━━━━━━━\u001b[0m\u001b[37m\u001b[0m \u001b[1m54s\u001b[0m 3ms/step - accuracy: 0.8781 - loss: 0.8096 - val_accuracy: 0.9555 - val_loss: 0.2097\n",
            "Epoch 2/50\n",
            "\u001b[1m19640/19640\u001b[0m \u001b[32m━━━━━━━━━━━━━━━━━━━━\u001b[0m\u001b[37m\u001b[0m \u001b[1m51s\u001b[0m 3ms/step - accuracy: 0.9385 - loss: 0.2167 - val_accuracy: 0.9822 - val_loss: 0.1314\n",
            "Epoch 3/50\n",
            "\u001b[1m19640/19640\u001b[0m \u001b[32m━━━━━━━━━━━━━━━━━━━━\u001b[0m\u001b[37m\u001b[0m \u001b[1m51s\u001b[0m 3ms/step - accuracy: 0.9442 - loss: 0.1910 - val_accuracy: 0.9750 - val_loss: 0.1275\n",
            "Epoch 4/50\n",
            "\u001b[1m19640/19640\u001b[0m \u001b[32m━━━━━━━━━━━━━━━━━━━━\u001b[0m\u001b[37m\u001b[0m \u001b[1m84s\u001b[0m 4ms/step - accuracy: 0.9463 - loss: 0.1821 - val_accuracy: 0.9559 - val_loss: 0.1659\n",
            "Epoch 5/50\n",
            "\u001b[1m19640/19640\u001b[0m \u001b[32m━━━━━━━━━━━━━━━━━━━━\u001b[0m\u001b[37m\u001b[0m \u001b[1m62s\u001b[0m 3ms/step - accuracy: 0.9484 - loss: 0.1771 - val_accuracy: 0.9328 - val_loss: 0.2003\n",
            "Epoch 6/50\n",
            "\u001b[1m19640/19640\u001b[0m \u001b[32m━━━━━━━━━━━━━━━━━━━━\u001b[0m\u001b[37m\u001b[0m \u001b[1m59s\u001b[0m 3ms/step - accuracy: 0.9488 - loss: 0.1755 - val_accuracy: 0.9913 - val_loss: 0.0963\n",
            "Epoch 7/50\n",
            "\u001b[1m19640/19640\u001b[0m \u001b[32m━━━━━━━━━━━━━━━━━━━━\u001b[0m\u001b[37m\u001b[0m \u001b[1m55s\u001b[0m 3ms/step - accuracy: 0.9492 - loss: 0.1745 - val_accuracy: 0.9876 - val_loss: 0.0993\n",
            "Epoch 8/50\n",
            "\u001b[1m19640/19640\u001b[0m \u001b[32m━━━━━━━━━━━━━━━━━━━━\u001b[0m\u001b[37m\u001b[0m \u001b[1m52s\u001b[0m 3ms/step - accuracy: 0.9499 - loss: 0.1741 - val_accuracy: 0.9513 - val_loss: 0.1574\n",
            "Epoch 9/50\n",
            "\u001b[1m19640/19640\u001b[0m \u001b[32m━━━━━━━━━━━━━━━━━━━━\u001b[0m\u001b[37m\u001b[0m \u001b[1m53s\u001b[0m 3ms/step - accuracy: 0.9508 - loss: 0.1731 - val_accuracy: 0.9851 - val_loss: 0.0991\n",
            "Epoch 10/50\n",
            "\u001b[1m19640/19640\u001b[0m \u001b[32m━━━━━━━━━━━━━━━━━━━━\u001b[0m\u001b[37m\u001b[0m \u001b[1m51s\u001b[0m 3ms/step - accuracy: 0.9513 - loss: 0.1717 - val_accuracy: 0.9974 - val_loss: 0.0893\n",
            "Epoch 11/50\n",
            "\u001b[1m19640/19640\u001b[0m \u001b[32m━━━━━━━━━━━━━━━━━━━━\u001b[0m\u001b[37m\u001b[0m \u001b[1m50s\u001b[0m 3ms/step - accuracy: 0.9511 - loss: 0.1721 - val_accuracy: 0.9712 - val_loss: 0.1323\n",
            "Epoch 12/50\n",
            "\u001b[1m19640/19640\u001b[0m \u001b[32m━━━━━━━━━━━━━━━━━━━━\u001b[0m\u001b[37m\u001b[0m \u001b[1m54s\u001b[0m 3ms/step - accuracy: 0.9517 - loss: 0.1710 - val_accuracy: 0.9884 - val_loss: 0.1209\n",
            "Epoch 13/50\n",
            "\u001b[1m19640/19640\u001b[0m \u001b[32m━━━━━━━━━━━━━━━━━━━━\u001b[0m\u001b[37m\u001b[0m \u001b[1m54s\u001b[0m 3ms/step - accuracy: 0.9521 - loss: 0.1710 - val_accuracy: 0.8865 - val_loss: 0.3049\n",
            "Epoch 14/50\n",
            "\u001b[1m19640/19640\u001b[0m \u001b[32m━━━━━━━━━━━━━━━━━━━━\u001b[0m\u001b[37m\u001b[0m \u001b[1m56s\u001b[0m 3ms/step - accuracy: 0.9521 - loss: 0.1718 - val_accuracy: 0.9471 - val_loss: 0.1725\n",
            "Epoch 15/50\n",
            "\u001b[1m19640/19640\u001b[0m \u001b[32m━━━━━━━━━━━━━━━━━━━━\u001b[0m\u001b[37m\u001b[0m \u001b[1m53s\u001b[0m 3ms/step - accuracy: 0.9526 - loss: 0.1701 - val_accuracy: 0.9907 - val_loss: 0.1015\n"
          ]
        }
      ],
      "source": [
        "from tensorflow.keras.optimizers import SGD\n",
        "from tensorflow.keras.regularizers import l1\n",
        "\n",
        "# Optimizer: SGD with custom learning rate\n",
        "optimizer_4 = SGD(learning_rate=0.01)\n",
        "\n",
        "# Early stopping\n",
        "early_stop_4 = EarlyStopping(monitor='val_loss', patience=5, restore_best_weights=True)\n",
        "\n",
        "# Model architecture\n",
        "model_4 = Sequential([\n",
        "    Dense(128, activation='relu', kernel_regularizer=l1(0.001), input_shape=(X_train_scaled.shape[1],)),\n",
        "    Dropout(0.3),\n",
        "    Dense(64, activation='relu', kernel_regularizer=l1(0.001)),\n",
        "    Dropout(0.3),\n",
        "    Dense(32, activation='relu'),\n",
        "    Dense(1, activation='sigmoid')\n",
        "])\n",
        "\n",
        "# Compile\n",
        "model_4.compile(\n",
        "    optimizer=optimizer_4,\n",
        "    loss='binary_crossentropy',\n",
        "    metrics=['accuracy']\n",
        ")\n",
        "\n",
        "# Train\n",
        "history_4 = model_4.fit(\n",
        "    X_train_scaled, y_train,\n",
        "    validation_data=(X_val_scaled, y_val),\n",
        "    epochs=50,\n",
        "    batch_size=64,\n",
        "    callbacks=[early_stop_4],\n",
        "    verbose=1\n",
        ")\n"
      ]
    },
    {
      "cell_type": "code",
      "execution_count": 37,
      "metadata": {
        "colab": {
          "base_uri": "https://localhost:8080/"
        },
        "id": "hecsAuHj82r5",
        "outputId": "593099c4-3449-4c58-d634-5dfc4e3f286a"
      },
      "outputs": [
        {
          "name": "stdout",
          "output_type": "stream",
          "text": [
            "\n",
            "✅ Instance 4 - Final Validation Accuracy: 0.9974\n"
          ]
        }
      ],
      "source": [
        "val_loss_4, val_acc_4 = model_4.evaluate(X_val_scaled, y_val, verbose=0)\n",
        "print(f\"\\n✅ Instance 4 - Final Validation Accuracy: {val_acc_4:.4f}\")\n",
        "\n",
        "# Save the model\n",
        "model_4.save('saved_models/nn_instance4_optimized.keras')\n"
      ]
    },
    {
      "cell_type": "code",
      "execution_count": 39,
      "metadata": {
        "colab": {
          "base_uri": "https://localhost:8080/",
          "height": 670
        },
        "id": "jY0LkJqj9BuM",
        "outputId": "8ca92e6c-916e-477d-bc8c-149e643049a4"
      },
      "outputs": [
        {
          "name": "stdout",
          "output_type": "stream",
          "text": [
            "\u001b[1m6554/6554\u001b[0m \u001b[32m━━━━━━━━━━━━━━━━━━━━\u001b[0m\u001b[37m\u001b[0m \u001b[1m4s\u001b[0m 613us/step\n"
          ]
        },
        {
          "data": {
            "image/png": "[encoded data removed]",
            "text/plain": [
              "<Figure size 500x400 with 2 Axes>"
            ]
          },
          "metadata": {},
          "output_type": "display_data"
        },
        {
          "name": "stdout",
          "output_type": "stream",
          "text": [
            "Classification Report - NN Instance 4:\n",
            "              precision    recall  f1-score   support\n",
            "\n",
            "           0       1.00      1.00      1.00    209487\n",
            "           1       0.26      0.76      0.39       228\n",
            "\n",
            "    accuracy                           1.00    209715\n",
            "   macro avg       0.63      0.88      0.70    209715\n",
            "weighted avg       1.00      1.00      1.00    209715\n",
            "\n",
            "Accuracy:  0.9974\n",
            "Precision: 0.2641\n",
            "Recall:    0.7588\n",
            "F1 Score:  0.3918\n"
          ]
        }
      ],
      "source": [
        "# Predict\n",
        "y_pred_4 = (model_4.predict(X_val_scaled) > 0.5).astype('int32')\n",
        "\n",
        "# Confusion matrix\n",
        "cm_4 = confusion_matrix(y_val, y_pred_4)\n",
        "\n",
        "plt.figure(figsize=(5, 4))\n",
        "sns.heatmap(cm_4, annot=True, fmt='d', cmap='Oranges')\n",
        "plt.title('Confusion Matrix - NN Instance 4')\n",
        "plt.xlabel('Predicted')\n",
        "plt.ylabel('Actual')\n",
        "plt.show()\n",
        "\n",
        "# Classification report\n",
        "print(\"Classification Report - NN Instance 4:\")\n",
        "print(classification_report(y_val, y_pred_4))\n",
        "\n",
        "# Individual metrics\n",
        "accuracy_4 = accuracy_score(y_val, y_pred_4)\n",
        "f1_4 = f1_score(y_val, y_pred_4)\n",
        "precision_4 = precision_score(y_val, y_pred_4)\n",
        "recall_4 = recall_score(y_val, y_pred_4)\n",
        "\n",
        "print(f\"Accuracy:  {accuracy_4:.4f}\")\n",
        "print(f\"Precision: {precision_4:.4f}\")\n",
        "print(f\"Recall:    {recall_4:.4f}\")\n",
        "print(f\"F1 Score:  {f1_4:.4f}\")\n"
      ]
    },
    {
      "cell_type": "code",
      "execution_count": 40,
      "metadata": {
        "colab": {
          "base_uri": "https://localhost:8080/"
        },
        "id": "H0FrAQos9K6n",
        "outputId": "adfd309a-4209-4627-adbd-0fac77cce103"
      },
      "outputs": [
        {
          "name": "stdout",
          "output_type": "stream",
          "text": [
            "{'Instance': '4', 'Optimizer': 'SGD', 'Regularizer': 'L1 + Dropout (0.3)', 'Epochs': 15, 'EarlyStopping': 'Yes', 'Layers': 4, 'LearningRate': 0.01, 'Accuracy': 0.9974, 'Precision': 0.2641, 'Recall': 0.7588, 'F1': 0.3918}\n"
          ]
        }
      ],
      "source": [
        "instance_4_metrics = {\n",
        "    \"Instance\": \"4\",\n",
        "    \"Optimizer\": \"SGD\",\n",
        "    \"Regularizer\": \"L1 + Dropout (0.3)\",\n",
        "    \"Epochs\": len(history_4.history['loss']),\n",
        "    \"EarlyStopping\": \"Yes\",\n",
        "    \"Layers\": 4,\n",
        "    \"LearningRate\": 0.01,\n",
        "    \"Accuracy\": round(accuracy_4, 4),\n",
        "    \"Precision\": round(precision_4, 4),\n",
        "    \"Recall\": round(recall_4, 4),\n",
        "    \"F1\": round(f1_4, 4)\n",
        "}\n",
        "\n",
        "print(instance_4_metrics)\n"
      ]
    },
    {
      "cell_type": "markdown",
      "metadata": {
        "id": "3aZLEriYOXI1"
      },
      "source": [
        "#Task: Make Predictions using the best saved model\n"
      ]
    },
    {
      "cell_type": "markdown",
      "metadata": {
        "id": "LnBLwqTJX3p0"
      },
      "source": [
        "Create a confusion Matrix and F1 score for both Models. Ensure outputs for the cells are visible"
      ]
    },
    {
      "cell_type": "markdown",
      "metadata": {
        "id": "bO79SOsZYG-M"
      },
      "source": [
        "Finally, Make predictions using the best model. By the time you get to this cell you may realise at some point you needed to save the model so that you cal load it later"
      ]
    },
    {
      "cell_type": "code",
      "execution_count": null,
      "metadata": {},
      "outputs": [
        {
          "name": "stdout",
          "output_type": "stream",
          "text": [
            "\u001b[1m6554/6554\u001b[0m \u001b[32m━━━━━━━━━━━━━━━━━━━━\u001b[0m\u001b[37m\u001b[0m \u001b[1m11s\u001b[0m 2ms/step\n",
            "📊 Classification Report (Test Set):\n",
            "              precision    recall  f1-score   support\n",
            "\n",
            "           0       1.00      0.99      1.00    209487\n",
            "           1       0.09      0.84      0.16       228\n",
            "\n",
            "    accuracy                           0.99    209715\n",
            "   macro avg       0.54      0.92      0.58    209715\n",
            "weighted avg       1.00      0.99      0.99    209715\n",
            "\n",
            "✅ Accuracy :  0.9901\n",
            "✅ Precision:  0.0860\n",
            "✅ Recall   :  0.8421\n",
            "✅ F1 Score :  0.1561\n"
          ]
        },
        {
          "data": {
            "image/png": "[encoded data removed]",
            "text/plain": [
              "<Figure size 600x500 with 2 Axes>"
            ]
          },
          "metadata": {},
          "output_type": "display_data"
        }
      ],
      "source": [
        "\n",
        "\n",
        "# === Step 1: Load the best saved model (Instance 2 had best F1 score)\n",
        "model_path = 'saved_models/nn_instance2_optimized.keras'\n",
        "model = load_model(model_path)\n",
        "\n",
        "# === Step 2: Make predictions on the test set\n",
        "y_pred_test = (model.predict(X_test_scaled) > 0.5).astype(\"int32\")\n",
        "\n",
        "# === Step 3: Evaluation Metrics\n",
        "acc = accuracy_score(y_test, y_pred_test)\n",
        "prec = precision_score(y_test, y_pred_test)\n",
        "rec = recall_score(y_test, y_pred_test)\n",
        "f1 = f1_score(y_test, y_pred_test)\n",
        "\n",
        "print(\"📊 Classification Report (Test Set):\")\n",
        "print(classification_report(y_test, y_pred_test))\n",
        "\n",
        "print(f\"✅ Accuracy :  {acc:.4f}\")\n",
        "print(f\"✅ Precision:  {prec:.4f}\")\n",
        "print(f\"✅ Recall   :  {rec:.4f}\")\n",
        "print(f\"✅ F1 Score :  {f1:.4f}\")\n",
        "\n",
        "# === Step 4: Confusion Matrix\n",
        "cm = confusion_matrix(y_test, y_pred_test)\n",
        "plt.figure(figsize=(6, 5))\n",
        "sns.heatmap(cm, annot=True, fmt='d', cmap='Blues')\n",
        "plt.title('Confusion Matrix - Best Model on Test Set')\n",
        "plt.xlabel('Predicted')\n",
        "plt.ylabel('Actual')\n",
        "plt.tight_layout()\n",
        "plt.show()\n"
      ]
    },
    {
      "cell_type": "markdown",
      "metadata": {
        "id": "rfTHk2nZMzTH"
      },
      "source": [
        "Congratulations!!\n"
      ]
    }
  ],
  "metadata": {
    "colab": {
      "include_colab_link": true,
      "provenance": []
    },
    "kernelspec": {
      "display_name": "Python 3",
      "name": "python3"
    },
    "language_info": {
      "codemirror_mode": {
        "name": "ipython",
        "version": 3
      },
      "file_extension": ".py",
      "mimetype": "text/x-python",
      "name": "python",
      "nbconvert_exporter": "python",
      "pygments_lexer": "ipython3",
      "version": "3.11.5"
    }
  },
  "nbformat": 4,
  "nbformat_minor": 0
}
