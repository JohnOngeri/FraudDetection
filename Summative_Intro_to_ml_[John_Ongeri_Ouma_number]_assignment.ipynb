{
  "cells": [
    {
      "cell_type": "markdown",
      "metadata": {
        "id": "view-in-github",
        "colab_type": "text"
      },
      "source": [
        "<a href=\"https://colab.research.google.com/github/JohnOngeri/FraudDetection/blob/main/Summative_Intro_to_ml_%5BJohn_Ongeri_Ouma_number%5D_assignment.ipynb\" target=\"_parent\"><img src=\"https://colab.research.google.com/assets/colab-badge.svg\" alt=\"Open In Colab\"/></a>"
      ]
    },
    {
      "cell_type": "markdown",
      "metadata": {
        "id": "ujuLMxSvoXbg"
      },
      "source": [
        "# Optimization Techniques in Machine Learning\n",
        "\n",
        "Objective: This assignment aims to explore implementation or Machine Learning Models with regularization, optimization and Error analysis  techniques used in machine learning to improve models' performance, convergence speed, and efficiency..\n",
        "\n",
        "A Notebook detailing the following\n",
        "\n",
        "* Project name\n",
        "* Clear out puts from cells\n",
        "\n",
        "\n",
        "\n",
        "\n",
        "\n",
        "\n",
        "**Instructions**\n",
        "\n",
        "1. Acquire a dataset suitable for ML tasks as per your proposal.\n",
        "2. Implement a simple machine learning model based on neural networks on the chosen dataset without any defined optimization techniques. (Check instructions)\n",
        "3. Implement and compare the model's performance after applying 3 to 4 disntict combinations regularization and optimization techniques.\n",
        "4. Discuss the results on the README file.\n",
        "5. Make predictions using test data\n",
        "7. Implement error analysis techniques and ensure there is: F1-Score, Recall, Precision, RUC a confusion matrix using plotting libraries (not verbose)\n",
        "\n",
        "Submit notebook to github repo\n",
        "\n"
      ]
    },
    {
      "cell_type": "markdown",
      "metadata": {
        "id": "o8VW_IzbI3od"
      },
      "source": [
        "\n",
        "# Case Study and Implementation\n",
        "\n",
        "\n"
      ]
    },
    {
      "cell_type": "code",
      "execution_count": null,
      "metadata": {
        "id": "wGCnpzs9M4Fd"
      },
      "outputs": [],
      "source": [
        "#Import Necessary Libraries\n",
        "\n",
        "# ========== 📊 Data Handling ==========\n",
        "import pandas as pd\n",
        "import numpy as np\n",
        "\n",
        "# ========== 🧼 Preprocessing ==========\n",
        "from sklearn.model_selection import train_test_split\n",
        "from sklearn.preprocessing import StandardScaler\n",
        "from sklearn.utils import resample  # if balancing classes\n",
        "from imblearn.combine import SMOTEENN  # for class imbalance\n",
        "\n",
        "# ========== 📈 Visualization ==========\n",
        "import matplotlib.pyplot as plt\n",
        "import seaborn as sns\n",
        "\n",
        "# ========== ⚙️ Classical ML Models ==========\n",
        "from sklearn.linear_model import LogisticRegression\n",
        "from sklearn.svm import SVC\n",
        "from xgboost import XGBClassifier\n",
        "\n",
        "# ========== 📊 Model Evaluation ==========\n",
        "from sklearn.metrics import (\n",
        "    accuracy_score,\n",
        "    precision_score,\n",
        "    recall_score,\n",
        "    f1_score,\n",
        "    roc_auc_score,\n",
        "    classification_report,\n",
        "    confusion_matrix\n",
        ")\n",
        "\n",
        "# ========== 🧠 Neural Networks ==========\n",
        "from tensorflow.keras.models import Sequential\n",
        "from tensorflow.keras.layers import Dense, Dropout\n",
        "from tensorflow.keras.optimizers import Adam, RMSprop, SGD\n",
        "from tensorflow.keras.callbacks import EarlyStopping\n",
        "from tensorflow.keras.regularizers import l1, l2\n",
        "from tensorflow.keras.models import load_model\n",
        "\n",
        "# ========== 💾 Model Saving ==========\n",
        "import joblib  # for ML models like XGBoost, SVM\n",
        "import os\n",
        "\n",
        "# ========== 🛠️ Warnings ==========\n",
        "import warnings\n",
        "warnings.filterwarnings('ignore')\n",
        "\n",
        "# ========== 📅 Optional: for timestamping models ==========\n",
        "from datetime import datetime\n",
        "\n"
      ]
    },
    {
      "cell_type": "markdown",
      "metadata": {
        "id": "M1FN7bFeIxfH"
      },
      "source": [
        "# The Dataset\n",
        "> ***Brief Description:***\n",
        "State the Problem and A short Description of the data\n"
      ]
    },
    {
      "cell_type": "markdown",
      "metadata": {
        "id": "E9SYkVhCZHPD"
      },
      "source": [
        "1.Problem defintion\n",
        "Fraud detection in mobile money transactions. Predicting whether the transaction if a fraud or not"
      ]
    },
    {
      "cell_type": "markdown",
      "metadata": {
        "id": "lJ7jXigIZPlt"
      },
      "source": [
        "The dataset can be downloaded from: https://www.kaggle.com/code/tomaszurban/fraud-detection-in-mobile-transactions/input\n",
        "\n",
        "This dataset contains mobile money transactions which were generated with PaySim simulator. The simulation was based on a sample of real transactions gathered by a company who is the provider of the mobile financial service which is currently runnig in more than 14 countries all around the world. The data is a set of one month financial logs from a mobile money service implemented in an African country.\n",
        "\n",
        "The data is gathered in one CSV file. One line sample row: 1,PAYMENT,1060.31,C429214117,1089.0,28.69,M1591654462,0.0,0.0,0,0\n",
        "\n",
        "The dataset contains (following the example above):\n",
        "\n",
        "step - maps a unit of time in the real world. In this case 1 step is 1 hour of time. Total steps 744 (30 days simulation).\n",
        "\n",
        "type - CASH-IN, CASH-OUT, DEBIT, PAYMENT and TRANSFER.\n",
        "\n",
        "amount - amount of the transaction in local currency.\n",
        "\n",
        "nameOrig - customer who started the transaction\n",
        "\n",
        "oldbalanceOrg - initial balance before the transaction\n",
        "\n",
        "newbalanceOrig - new balance after the transaction\n",
        "\n",
        "nameDest - customer who is the recipient of the transaction\n",
        "\n",
        "oldbalanceDest - initial balance recipient before the transaction. Note that there is not information for customers that start with M (Merchants).\n",
        "\n",
        "newbalanceDest - new balance recipient after the transaction. Note that there is not information for customers that start with M (Merchants).\n",
        "\n",
        "isFraud - This is the transactions made by the fraudulent agents inside the simulation. In this specific dataset the fraudulent behavior of the agents aims to profit by taking control of customers accounts and try to empty the funds by transferring to another account and then cashing out of the system.\n",
        "\n",
        "isFlaggedFraud - The business model aims to control massive transfers from one account to another and flags illegal attempts. An illegal attempt in this dataset is an attempt to transfer more than 200.000 in a single transaction."
      ]
    },
    {
      "cell_type": "code",
      "execution_count": null,
      "metadata": {
        "colab": {
          "base_uri": "https://localhost:8080/",
          "height": 206
        },
        "id": "nas-T7xwPIso",
        "outputId": "f203cd6c-288d-4309-93cd-d1911d38ffeb"
      },
      "outputs": [
        {
          "data": {
            "application/vnd.google.colaboratory.intrinsic+json": {
              "type": "dataframe",
              "variable_name": "data"
            },
            "text/html": [
              "\n",
              "  <div id=\"df-ffe2b14e-10b4-4cd7-908e-0690caa366a8\" class=\"colab-df-container\">\n",
              "    <div>\n",
              "<style scoped>\n",
              "    .dataframe tbody tr th:only-of-type {\n",
              "        vertical-align: middle;\n",
              "    }\n",
              "\n",
              "    .dataframe tbody tr th {\n",
              "        vertical-align: top;\n",
              "    }\n",
              "\n",
              "    .dataframe thead th {\n",
              "        text-align: right;\n",
              "    }\n",
              "</style>\n",
              "<table border=\"1\" class=\"dataframe\">\n",
              "  <thead>\n",
              "    <tr style=\"text-align: right;\">\n",
              "      <th></th>\n",
              "      <th>step</th>\n",
              "      <th>type</th>\n",
              "      <th>amount</th>\n",
              "      <th>nameOrig</th>\n",
              "      <th>oldbalanceOrg</th>\n",
              "      <th>newbalanceOrig</th>\n",
              "      <th>nameDest</th>\n",
              "      <th>oldbalanceDest</th>\n",
              "      <th>newbalanceDest</th>\n",
              "      <th>isFraud</th>\n",
              "      <th>isFlaggedFraud</th>\n",
              "    </tr>\n",
              "  </thead>\n",
              "  <tbody>\n",
              "    <tr>\n",
              "      <th>0</th>\n",
              "      <td>1</td>\n",
              "      <td>PAYMENT</td>\n",
              "      <td>9839.64</td>\n",
              "      <td>C1231006815</td>\n",
              "      <td>170136.0</td>\n",
              "      <td>160296.36</td>\n",
              "      <td>M1979787155</td>\n",
              "      <td>0.0</td>\n",
              "      <td>0.0</td>\n",
              "      <td>0</td>\n",
              "      <td>0</td>\n",
              "    </tr>\n",
              "    <tr>\n",
              "      <th>1</th>\n",
              "      <td>1</td>\n",
              "      <td>PAYMENT</td>\n",
              "      <td>1864.28</td>\n",
              "      <td>C1666544295</td>\n",
              "      <td>21249.0</td>\n",
              "      <td>19384.72</td>\n",
              "      <td>M2044282225</td>\n",
              "      <td>0.0</td>\n",
              "      <td>0.0</td>\n",
              "      <td>0</td>\n",
              "      <td>0</td>\n",
              "    </tr>\n",
              "    <tr>\n",
              "      <th>2</th>\n",
              "      <td>1</td>\n",
              "      <td>TRANSFER</td>\n",
              "      <td>181.00</td>\n",
              "      <td>C1305486145</td>\n",
              "      <td>181.0</td>\n",
              "      <td>0.00</td>\n",
              "      <td>C553264065</td>\n",
              "      <td>0.0</td>\n",
              "      <td>0.0</td>\n",
              "      <td>1</td>\n",
              "      <td>0</td>\n",
              "    </tr>\n",
              "    <tr>\n",
              "      <th>3</th>\n",
              "      <td>1</td>\n",
              "      <td>CASH_OUT</td>\n",
              "      <td>181.00</td>\n",
              "      <td>C840083671</td>\n",
              "      <td>181.0</td>\n",
              "      <td>0.00</td>\n",
              "      <td>C38997010</td>\n",
              "      <td>21182.0</td>\n",
              "      <td>0.0</td>\n",
              "      <td>1</td>\n",
              "      <td>0</td>\n",
              "    </tr>\n",
              "    <tr>\n",
              "      <th>4</th>\n",
              "      <td>1</td>\n",
              "      <td>PAYMENT</td>\n",
              "      <td>11668.14</td>\n",
              "      <td>C2048537720</td>\n",
              "      <td>41554.0</td>\n",
              "      <td>29885.86</td>\n",
              "      <td>M1230701703</td>\n",
              "      <td>0.0</td>\n",
              "      <td>0.0</td>\n",
              "      <td>0</td>\n",
              "      <td>0</td>\n",
              "    </tr>\n",
              "  </tbody>\n",
              "</table>\n",
              "</div>\n",
              "    <div class=\"colab-df-buttons\">\n",
              "\n",
              "  <div class=\"colab-df-container\">\n",
              "    <button class=\"colab-df-convert\" onclick=\"convertToInteractive('df-ffe2b14e-10b4-4cd7-908e-0690caa366a8')\"\n",
              "            title=\"Convert this dataframe to an interactive table.\"\n",
              "            style=\"display:none;\">\n",
              "\n",
              "  <svg xmlns=\"http://www.w3.org/2000/svg\" height=\"24px\" viewBox=\"0 -960 960 960\">\n",
              "    <path d=\"M120-120v-720h720v720H120Zm60-500h600v-160H180v160Zm220 220h160v-160H400v160Zm0 220h160v-160H400v160ZM180-400h160v-160H180v160Zm440 0h160v-160H620v160ZM180-180h160v-160H180v160Zm440 0h160v-160H620v160Z\"/>\n",
              "  </svg>\n",
              "    </button>\n",
              "\n",
              "  <style>\n",
              "    .colab-df-container {\n",
              "      display:flex;\n",
              "      gap: 12px;\n",
              "    }\n",
              "\n",
              "    .colab-df-convert {\n",
              "      background-color: #E8F0FE;\n",
              "      border: none;\n",
              "      border-radius: 50%;\n",
              "      cursor: pointer;\n",
              "      display: none;\n",
              "      fill: #1967D2;\n",
              "      height: 32px;\n",
              "      padding: 0 0 0 0;\n",
              "      width: 32px;\n",
              "    }\n",
              "\n",
              "    .colab-df-convert:hover {\n",
              "      background-color: #E2EBFA;\n",
              "      box-shadow: 0px 1px 2px rgba(60, 64, 67, 0.3), 0px 1px 3px 1px rgba(60, 64, 67, 0.15);\n",
              "      fill: #174EA6;\n",
              "    }\n",
              "\n",
              "    .colab-df-buttons div {\n",
              "      margin-bottom: 4px;\n",
              "    }\n",
              "\n",
              "    [theme=dark] .colab-df-convert {\n",
              "      background-color: #3B4455;\n",
              "      fill: #D2E3FC;\n",
              "    }\n",
              "\n",
              "    [theme=dark] .colab-df-convert:hover {\n",
              "      background-color: #434B5C;\n",
              "      box-shadow: 0px 1px 3px 1px rgba(0, 0, 0, 0.15);\n",
              "      filter: drop-shadow(0px 1px 2px rgba(0, 0, 0, 0.3));\n",
              "      fill: #FFFFFF;\n",
              "    }\n",
              "  </style>\n",
              "\n",
              "    <script>\n",
              "      const buttonEl =\n",
              "        document.querySelector('#df-ffe2b14e-10b4-4cd7-908e-0690caa366a8 button.colab-df-convert');\n",
              "      buttonEl.style.display =\n",
              "        google.colab.kernel.accessAllowed ? 'block' : 'none';\n",
              "\n",
              "      async function convertToInteractive(key) {\n",
              "        const element = document.querySelector('#df-ffe2b14e-10b4-4cd7-908e-0690caa366a8');\n",
              "        const dataTable =\n",
              "          await google.colab.kernel.invokeFunction('convertToInteractive',\n",
              "                                                    [key], {});\n",
              "        if (!dataTable) return;\n",
              "\n",
              "        const docLinkHtml = 'Like what you see? Visit the ' +\n",
              "          '<a target=\"_blank\" href=https://colab.research.google.com/notebooks/data_table.ipynb>data table notebook</a>'\n",
              "          + ' to learn more about interactive tables.';\n",
              "        element.innerHTML = '';\n",
              "        dataTable['output_type'] = 'display_data';\n",
              "        await google.colab.output.renderOutput(dataTable, element);\n",
              "        const docLink = document.createElement('div');\n",
              "        docLink.innerHTML = docLinkHtml;\n",
              "        element.appendChild(docLink);\n",
              "      }\n",
              "    </script>\n",
              "  </div>\n",
              "\n",
              "\n",
              "    <div id=\"df-6d90ad3b-8d5f-458e-831e-69939a34a237\">\n",
              "      <button class=\"colab-df-quickchart\" onclick=\"quickchart('df-6d90ad3b-8d5f-458e-831e-69939a34a237')\"\n",
              "                title=\"Suggest charts\"\n",
              "                style=\"display:none;\">\n",
              "\n",
              "<svg xmlns=\"http://www.w3.org/2000/svg\" height=\"24px\"viewBox=\"0 0 24 24\"\n",
              "     width=\"24px\">\n",
              "    <g>\n",
              "        <path d=\"M19 3H5c-1.1 0-2 .9-2 2v14c0 1.1.9 2 2 2h14c1.1 0 2-.9 2-2V5c0-1.1-.9-2-2-2zM9 17H7v-7h2v7zm4 0h-2V7h2v10zm4 0h-2v-4h2v4z\"/>\n",
              "    </g>\n",
              "</svg>\n",
              "      </button>\n",
              "\n",
              "<style>\n",
              "  .colab-df-quickchart {\n",
              "      --bg-color: #E8F0FE;\n",
              "      --fill-color: #1967D2;\n",
              "      --hover-bg-color: #E2EBFA;\n",
              "      --hover-fill-color: #174EA6;\n",
              "      --disabled-fill-color: #AAA;\n",
              "      --disabled-bg-color: #DDD;\n",
              "  }\n",
              "\n",
              "  [theme=dark] .colab-df-quickchart {\n",
              "      --bg-color: #3B4455;\n",
              "      --fill-color: #D2E3FC;\n",
              "      --hover-bg-color: #434B5C;\n",
              "      --hover-fill-color: #FFFFFF;\n",
              "      --disabled-bg-color: #3B4455;\n",
              "      --disabled-fill-color: #666;\n",
              "  }\n",
              "\n",
              "  .colab-df-quickchart {\n",
              "    background-color: var(--bg-color);\n",
              "    border: none;\n",
              "    border-radius: 50%;\n",
              "    cursor: pointer;\n",
              "    display: none;\n",
              "    fill: var(--fill-color);\n",
              "    height: 32px;\n",
              "    padding: 0;\n",
              "    width: 32px;\n",
              "  }\n",
              "\n",
              "  .colab-df-quickchart:hover {\n",
              "    background-color: var(--hover-bg-color);\n",
              "    box-shadow: 0 1px 2px rgba(60, 64, 67, 0.3), 0 1px 3px 1px rgba(60, 64, 67, 0.15);\n",
              "    fill: var(--button-hover-fill-color);\n",
              "  }\n",
              "\n",
              "  .colab-df-quickchart-complete:disabled,\n",
              "  .colab-df-quickchart-complete:disabled:hover {\n",
              "    background-color: var(--disabled-bg-color);\n",
              "    fill: var(--disabled-fill-color);\n",
              "    box-shadow: none;\n",
              "  }\n",
              "\n",
              "  .colab-df-spinner {\n",
              "    border: 2px solid var(--fill-color);\n",
              "    border-color: transparent;\n",
              "    border-bottom-color: var(--fill-color);\n",
              "    animation:\n",
              "      spin 1s steps(1) infinite;\n",
              "  }\n",
              "\n",
              "  @keyframes spin {\n",
              "    0% {\n",
              "      border-color: transparent;\n",
              "      border-bottom-color: var(--fill-color);\n",
              "      border-left-color: var(--fill-color);\n",
              "    }\n",
              "    20% {\n",
              "      border-color: transparent;\n",
              "      border-left-color: var(--fill-color);\n",
              "      border-top-color: var(--fill-color);\n",
              "    }\n",
              "    30% {\n",
              "      border-color: transparent;\n",
              "      border-left-color: var(--fill-color);\n",
              "      border-top-color: var(--fill-color);\n",
              "      border-right-color: var(--fill-color);\n",
              "    }\n",
              "    40% {\n",
              "      border-color: transparent;\n",
              "      border-right-color: var(--fill-color);\n",
              "      border-top-color: var(--fill-color);\n",
              "    }\n",
              "    60% {\n",
              "      border-color: transparent;\n",
              "      border-right-color: var(--fill-color);\n",
              "    }\n",
              "    80% {\n",
              "      border-color: transparent;\n",
              "      border-right-color: var(--fill-color);\n",
              "      border-bottom-color: var(--fill-color);\n",
              "    }\n",
              "    90% {\n",
              "      border-color: transparent;\n",
              "      border-bottom-color: var(--fill-color);\n",
              "    }\n",
              "  }\n",
              "</style>\n",
              "\n",
              "      <script>\n",
              "        async function quickchart(key) {\n",
              "          const quickchartButtonEl =\n",
              "            document.querySelector('#' + key + ' button');\n",
              "          quickchartButtonEl.disabled = true;  // To prevent multiple clicks.\n",
              "          quickchartButtonEl.classList.add('colab-df-spinner');\n",
              "          try {\n",
              "            const charts = await google.colab.kernel.invokeFunction(\n",
              "                'suggestCharts', [key], {});\n",
              "          } catch (error) {\n",
              "            console.error('Error during call to suggestCharts:', error);\n",
              "          }\n",
              "          quickchartButtonEl.classList.remove('colab-df-spinner');\n",
              "          quickchartButtonEl.classList.add('colab-df-quickchart-complete');\n",
              "        }\n",
              "        (() => {\n",
              "          let quickchartButtonEl =\n",
              "            document.querySelector('#df-6d90ad3b-8d5f-458e-831e-69939a34a237 button');\n",
              "          quickchartButtonEl.style.display =\n",
              "            google.colab.kernel.accessAllowed ? 'block' : 'none';\n",
              "        })();\n",
              "      </script>\n",
              "    </div>\n",
              "\n",
              "    </div>\n",
              "  </div>\n"
            ],
            "text/plain": [
              "   step      type    amount     nameOrig  oldbalanceOrg  newbalanceOrig  \\\n",
              "0     1   PAYMENT   9839.64  C1231006815       170136.0       160296.36   \n",
              "1     1   PAYMENT   1864.28  C1666544295        21249.0        19384.72   \n",
              "2     1  TRANSFER    181.00  C1305486145          181.0            0.00   \n",
              "3     1  CASH_OUT    181.00   C840083671          181.0            0.00   \n",
              "4     1   PAYMENT  11668.14  C2048537720        41554.0        29885.86   \n",
              "\n",
              "      nameDest  oldbalanceDest  newbalanceDest  isFraud  isFlaggedFraud  \n",
              "0  M1979787155             0.0             0.0        0               0  \n",
              "1  M2044282225             0.0             0.0        0               0  \n",
              "2   C553264065             0.0             0.0        1               0  \n",
              "3    C38997010         21182.0             0.0        1               0  \n",
              "4  M1230701703             0.0             0.0        0               0  "
            ]
          },
          "execution_count": 46,
          "metadata": {},
          "output_type": "execute_result"
        }
      ],
      "source": [
        "#TO DO: Load Data (Seprate into: Train, Validation and test sets)\n",
        "\n",
        "# Load the dataset\n",
        "data = pd.read_csv('/content/fraud.csv')\n",
        "\n",
        "# Preview the first 5 rows\n",
        "data.head(5)\n"
      ]
    },
    {
      "cell_type": "code",
      "execution_count": null,
      "metadata": {
        "id": "sKpRNB06hvvN"
      },
      "outputs": [],
      "source": [
        "# Drop ID columns that don't help model learning\n",
        "data = data.drop(['nameOrig', 'nameDest'], axis=1)\n"
      ]
    },
    {
      "cell_type": "code",
      "execution_count": null,
      "metadata": {
        "colab": {
          "base_uri": "https://localhost:8080/"
        },
        "id": "OTE6RrU2hz5z",
        "outputId": "d3a333ba-5ae9-4f2c-9d51-5e199269bdaa"
      },
      "outputs": [
        {
          "name": "stdout",
          "output_type": "stream",
          "text": [
            "step                int64\n",
            "amount            float64\n",
            "oldbalanceOrg     float64\n",
            "newbalanceOrig    float64\n",
            "oldbalanceDest    float64\n",
            "newbalanceDest    float64\n",
            "isFraud             int64\n",
            "isFlaggedFraud      int64\n",
            "type_CASH_OUT        bool\n",
            "type_DEBIT           bool\n",
            "type_PAYMENT         bool\n",
            "type_TRANSFER        bool\n",
            "dtype: object\n"
          ]
        }
      ],
      "source": [
        "# Convert 'type' column to numerical (one-hot encoding)\n",
        "data = pd.get_dummies(data, columns=['type'], drop_first=True)\n",
        "\n",
        "# Confirm all are now numeric\n",
        "print(data.dtypes)\n"
      ]
    },
    {
      "cell_type": "code",
      "execution_count": null,
      "metadata": {
        "id": "KWY2QeE9arxc"
      },
      "outputs": [],
      "source": [
        "# Define X and y\n",
        "X = data.drop(columns=['isFraud'])  # Features\n",
        "y = data['isFraud']                 # Target\n"
      ]
    },
    {
      "cell_type": "code",
      "execution_count": null,
      "metadata": {
        "id": "yIBLGQ0_iC-N"
      },
      "outputs": [],
      "source": [
        "from sklearn.preprocessing import StandardScaler\n",
        "\n",
        "scaler = StandardScaler()\n",
        "X_scaled = scaler.fit_transform(X)\n"
      ]
    },
    {
      "cell_type": "code",
      "execution_count": null,
      "metadata": {
        "id": "HznnS24uboWs"
      },
      "outputs": [],
      "source": [
        "from sklearn.model_selection import train_test_split\n",
        "\n",
        "# 80% temp, 20% test\n",
        "X_temp, X_test, y_temp, y_test = train_test_split(X_scaled, y, test_size=0.2, stratify=y, random_state=42)\n",
        "\n",
        "# 75% of temp for training, 25% for validation → 60/20/20 split overall\n",
        "X_train, X_val, y_train, y_val = train_test_split(X_temp, y_temp, test_size=0.25, stratify=y_temp, random_state=42)\n"
      ]
    },
    {
      "cell_type": "code",
      "execution_count": null,
      "metadata": {
        "colab": {
          "base_uri": "https://localhost:8080/"
        },
        "id": "Lco8-5M8bswm",
        "outputId": "97d4541c-cc79-483e-88e5-5658330ec08f"
      },
      "outputs": [
        {
          "name": "stdout",
          "output_type": "stream",
          "text": [
            "Training set shape:  (629145, 11)\n",
            "Validation set shape:  (209715, 11)\n",
            "Test set shape:  (209715, 11)\n",
            "\n",
            "Class distribution in each split:\n",
            "Train:\n",
            " isFraud\n",
            "0    0.99891\n",
            "1    0.00109\n",
            "Name: proportion, dtype: float64\n",
            "Validation:\n",
            " isFraud\n",
            "0    0.998913\n",
            "1    0.001087\n",
            "Name: proportion, dtype: float64\n",
            "Test:\n",
            " isFraud\n",
            "0    0.998913\n",
            "1    0.001087\n",
            "Name: proportion, dtype: float64\n"
          ]
        }
      ],
      "source": [
        "print(\"Training set shape: \", X_train.shape)\n",
        "print(\"Validation set shape: \", X_val.shape)\n",
        "print(\"Test set shape: \", X_test.shape)\n",
        "\n",
        "print(\"\\nClass distribution in each split:\")\n",
        "print(\"Train:\\n\", y_train.value_counts(normalize=True))\n",
        "print(\"Validation:\\n\", y_val.value_counts(normalize=True))\n",
        "print(\"Test:\\n\", y_test.value_counts(normalize=True))\n"
      ]
    },
    {
      "cell_type": "code",
      "execution_count": null,
      "metadata": {
        "colab": {
          "base_uri": "https://localhost:8080/"
        },
        "id": "8DdYfpGxb9mg",
        "outputId": "d4900ffe-4de8-4ceb-c59a-39ac2dd5b14a"
      },
      "outputs": [
        {
          "name": "stdout",
          "output_type": "stream",
          "text": [
            "Fraudulent transactions: 1142\n",
            "Non-fraudulent transactions: 1047433\n",
            "Flagged as fraud (by system): 0\n"
          ]
        }
      ],
      "source": [
        "num_fraud = (data[\"isFraud\"] == 1).sum()\n",
        "num_non_fraud = (data[\"isFraud\"] == 0).sum()\n",
        "num_flagged_fraud = (data[\"isFlaggedFraud\"] == 1).sum()\n",
        "\n",
        "print(f\"Fraudulent transactions: {num_fraud}\")\n",
        "print(f\"Non-fraudulent transactions: {num_non_fraud}\")\n",
        "print(f\"Flagged as fraud (by system): {num_flagged_fraud}\")\n"
      ]
    },
    {
      "cell_type": "markdown",
      "metadata": {
        "id": "yJI4GWtceseD"
      },
      "source": [
        " Preprocessing and Class Balancing\n",
        "Because i am working on a fraud detection problem with extreme class imbalance, i need to:\n",
        "\n",
        "✅ Step 1: Handle Class Imbalance with SMOTEENN (on training set only)\n",
        "This helps the model see more fraud cases during training."
      ]
    },
    {
      "cell_type": "code",
      "execution_count": null,
      "metadata": {
        "colab": {
          "base_uri": "https://localhost:8080/"
        },
        "id": "ugCwK7HzfW8-",
        "outputId": "84258b02-9b0f-4efc-f996-c71cd5bba61d"
      },
      "outputs": [
        {
          "name": "stdout",
          "output_type": "stream",
          "text": [
            "After SMOTE (balanced y_train):\n",
            "isFraud\n",
            "0    628459\n",
            "1    628459\n",
            "Name: count, dtype: int64\n"
          ]
        }
      ],
      "source": [
        "from imblearn.over_sampling import SMOTE\n",
        "\n",
        "smote = SMOTE(random_state=42)\n",
        "X_train, y_train = smote.fit_resample(X_train, y_train)\n",
        "\n",
        "# Optional: Check class balance\n",
        "# Count of each class in training set\n",
        "print(\"After SMOTE (balanced y_train):\")\n",
        "print(pd.Series(y_train).value_counts())\n"
      ]
    },
    {
      "cell_type": "code",
      "execution_count": null,
      "metadata": {
        "colab": {
          "base_uri": "https://localhost:8080/"
        },
        "id": "foQZ-HmziuFX",
        "outputId": "0824d827-e9ce-4962-9e73-d7d3753a7bd4"
      },
      "outputs": [
        {
          "name": "stdout",
          "output_type": "stream",
          "text": [
            "Fitting and transforming X_train...\n",
            "X_train_scaled shape: (1256918, 11)\n",
            "Transforming X_val...\n",
            "X_val_scaled shape: (209715, 11)\n",
            "Transforming X_test...\n",
            "X_test_scaled shape: (209715, 11)\n"
          ]
        }
      ],
      "source": [
        "from sklearn.preprocessing import StandardScaler\n",
        "\n",
        "# Create the scaler\n",
        "scaler = StandardScaler()\n",
        "\n",
        "# Fit the scaler on the training data and transform\n",
        "print(\"Fitting and transforming X_train...\")\n",
        "X_train_scaled = scaler.fit_transform(X_train)\n",
        "print(f\"X_train_scaled shape: {X_train_scaled.shape}\")\n",
        "\n",
        "# Transform validation and test sets\n",
        "print(\"Transforming X_val...\")\n",
        "X_val_scaled = scaler.transform(X_val)\n",
        "print(f\"X_val_scaled shape: {X_val_scaled.shape}\")\n",
        "\n",
        "print(\"Transforming X_test...\")\n",
        "X_test_scaled = scaler.transform(X_test)\n",
        "print(f\"X_test_scaled shape: {X_test_scaled.shape}\")\n"
      ]
    },
    {
      "cell_type": "code",
      "execution_count": null,
      "metadata": {
        "id": "Dow7rx1Trxms"
      },
      "outputs": [],
      "source": [
        "from xgboost import XGBClassifier\n",
        "from sklearn.model_selection import RandomizedSearchCV\n",
        "from sklearn.metrics import classification_report, confusion_matrix\n",
        "import joblib\n"
      ]
    },
    {
      "cell_type": "code",
      "execution_count": 66,
      "metadata": {
        "colab": {
          "base_uri": "https://localhost:8080/"
        },
        "id": "PEFJpRi6r2Fa",
        "outputId": "c5d1fc80-5427-4b5d-dfc1-857930308d0a"
      },
      "outputs": [
        {
          "output_type": "stream",
          "name": "stdout",
          "text": [
            "Fitting 3 folds for each of 6 candidates, totalling 18 fits\n",
            "Best Logistic Regression Parameters:\n",
            "{'C': 1, 'class_weight': 'balanced', 'penalty': 'l1', 'solver': 'liblinear'}\n",
            "\n",
            "Logistic Regression Classification Report:\n",
            "              precision    recall  f1-score   support\n",
            "\n",
            "           0       1.00      0.95      0.97    209487\n",
            "           1       0.02      0.95      0.04       228\n",
            "\n",
            "    accuracy                           0.95    209715\n",
            "   macro avg       0.51      0.95      0.50    209715\n",
            "weighted avg       1.00      0.95      0.97    209715\n",
            "\n"
          ]
        }
      ],
      "source": [
        "from sklearn.linear_model import LogisticRegression\n",
        "from sklearn.model_selection import GridSearchCV\n",
        "from sklearn.metrics import classification_report\n",
        "import joblib\n",
        "\n",
        "# ✅ Use balanced & scaled training set\n",
        "# Assuming you have:\n",
        "# X_train_scaled (from X_train_balanced)\n",
        "# y_train_balanced\n",
        "\n",
        "# 💡 Reduced parameter grid (only essential, 6 combos)\n",
        "lr_params = {\n",
        "    'penalty': ['l1', 'l2'],\n",
        "    'C': [0.01, 0.1, 1],\n",
        "    'solver': ['liblinear'],  # supports both l1 and l2\n",
        "    'class_weight': ['balanced']\n",
        "}\n",
        "\n",
        "# Create logistic regression model\n",
        "lr = LogisticRegression(max_iter=200)\n",
        "\n",
        "# GridSearch with 3-fold CV\n",
        "lr_grid = GridSearchCV(\n",
        "    estimator=lr,\n",
        "    param_grid=lr_params,\n",
        "    scoring='f1',\n",
        "    cv=3,\n",
        "    verbose=1,\n",
        "    n_jobs=-1\n",
        ")\n",
        "\n",
        "# ⏱️ Fit the model\n",
        "lr_grid.fit(X_train_scaled, y_train)\n",
        "\n",
        "# 🏆 Best model and parameters\n",
        "best_lr = lr_grid.best_estimator_\n",
        "print(\"Best Logistic Regression Parameters:\")\n",
        "print(lr_grid.best_params_)\n",
        "\n",
        "# 📊 Evaluate on validation set\n",
        "y_pred_lr = best_lr.predict(X_val_scaled)\n",
        "print(\"\\nLogistic Regression Classification Report:\")\n",
        "print(classification_report(y_val, y_pred_lr))\n",
        "\n",
        "\n"
      ]
    },
    {
      "cell_type": "code",
      "source": [
        "import matplotlib.pyplot as plt\n",
        "import seaborn as sns\n",
        "\n",
        "#Confusion matrix\n",
        "\n",
        "conf_matrix_log = confusion_matrix(y_val, y_pred_lr)\n",
        "sns.heatmap(conf_matrix_log, annot=True, fmt='d', cmap='Greens')\n",
        "plt.title('Confusion Matrix - Logistic Regression')\n",
        "plt.xlabel('Predicted')\n",
        "plt.ylabel('Actual')\n",
        "plt.show()"
      ],
      "metadata": {
        "colab": {
          "base_uri": "https://localhost:8080/",
          "height": 472
        },
        "id": "N4YT49BCi8al",
        "outputId": "83bf0f93-f0bc-4ffc-b65d-63e7c8921bae"
      },
      "execution_count": 68,
      "outputs": [
        {
          "output_type": "display_data",
          "data": {
            "text/plain": [
              "<Figure size 640x480 with 2 Axes>"
            ],
            "image/png": "[encoded data removed]"
          },
          "metadata": {}
        }
      ]
    },
    {
      "cell_type": "code",
      "source": [
        "import os\n",
        "\n",
        "# Create the folder if it doesn't already exist\n",
        "os.makedirs('saved_models', exist_ok=True)\n"
      ],
      "metadata": {
        "id": "y8b0IBrLjkrd"
      },
      "execution_count": 69,
      "outputs": []
    },
    {
      "cell_type": "code",
      "source": [
        "import joblib\n",
        "\n",
        "joblib.dump(best_lr, 'saved_models/logistic_regression_model.pkl')"
      ],
      "metadata": {
        "colab": {
          "base_uri": "https://localhost:8080/"
        },
        "id": "GSEw7Sq8j_ZV",
        "outputId": "db5b7f3c-9cb9-4f83-cd17-a29122ced84f"
      },
      "execution_count": 71,
      "outputs": [
        {
          "output_type": "execute_result",
          "data": {
            "text/plain": [
              "['saved_models/logistic_regression_model.pkl']"
            ]
          },
          "metadata": {},
          "execution_count": 71
        }
      ]
    },
    {
      "cell_type": "markdown",
      "metadata": {
        "id": "ve4AiQmGMzIN"
      },
      "source": [
        "#SECTION 1: Model Architecture:\n",
        "\n",
        "\n",
        "\n",
        "```\n",
        "TODO: Insert an image with the Model architecture here.Replace the image Below\n",
        "```\n",
        "> <img src=\"https://miro.medium.com/v2/resize:fit:640/format:webp/1*v1ohAG82xmU6WGsG2hoE8g.png\" alt=\"?\" style=\"width:25px\"/>\n",
        "\n",
        "\n"
      ]
    },
    {
      "cell_type": "markdown",
      "metadata": {
        "id": "QR4BNYoUMzMP"
      },
      "source": [
        "#Task: Define a function that creates models without and With specified Optimization techniques\n"
      ]
    },
    {
      "cell_type": "markdown",
      "source": [
        "**Basic Neural Network (No Optimization)**"
      ],
      "metadata": {
        "id": "QT39JY5Jrtsa"
      }
    },
    {
      "cell_type": "code",
      "source": [
        "import tensorflow as tf\n",
        "from tensorflow.keras.models import Sequential\n",
        "from tensorflow.keras.layers import Dense\n",
        "from sklearn.metrics import classification_report\n"
      ],
      "metadata": {
        "id": "SKj-eWYOn-ab"
      },
      "execution_count": 74,
      "outputs": []
    },
    {
      "cell_type": "code",
      "execution_count": 77,
      "metadata": {
        "id": "gGtPmYb_SDHy"
      },
      "outputs": [],
      "source": [
        "from tensorflow.keras.optimizers import Adam, RMSprop\n",
        "from tensorflow.keras.regularizers import l2 # Corrected import statement\n",
        "from tensorflow.keras.callbacks import EarlyStopping\n",
        "\n",
        "\n",
        "# Build the model (Instance 1)\n",
        "model_1 = Sequential([\n",
        "    Dense(64, activation='relu', input_shape=(X_train_scaled.shape[1],)),\n",
        "    Dense(32, activation='relu'),\n",
        "    Dense(1, activation='sigmoid')\n",
        "])"
      ]
    },
    {
      "cell_type": "code",
      "source": [
        "# Compile with defaults (no optimizer tuning)\n",
        "model_1.compile(loss='binary_crossentropy', optimizer='adam', metrics=['accuracy'])\n",
        "\n",
        "# Train on balanced and scaled data (NO EarlyStopping)\n",
        "history_1 = model_1.fit(\n",
        "    X_train_scaled,\n",
        "    y_train,\n",
        "    epochs=10,  # keep short to avoid overfitting\n",
        "    batch_size=32,\n",
        "    validation_data=(X_val_scaled, y_val),\n",
        "    verbose=1\n",
        ")"
      ],
      "metadata": {
        "colab": {
          "base_uri": "https://localhost:8080/"
        },
        "id": "dkb-knNmokkO",
        "outputId": "e9920cf2-084f-4b23-8ae1-196566e8b0f4"
      },
      "execution_count": 79,
      "outputs": [
        {
          "output_type": "stream",
          "name": "stdout",
          "text": [
            "Epoch 1/10\n",
            "\u001b[1m39279/39279\u001b[0m \u001b[32m━━━━━━━━━━━━━━━━━━━━\u001b[0m\u001b[37m\u001b[0m \u001b[1m123s\u001b[0m 3ms/step - accuracy: 0.9474 - loss: 0.1239 - val_accuracy: 0.9529 - val_loss: 0.1093\n",
            "Epoch 2/10\n",
            "\u001b[1m39279/39279\u001b[0m \u001b[32m━━━━━━━━━━━━━━━━━━━━\u001b[0m\u001b[37m\u001b[0m \u001b[1m116s\u001b[0m 3ms/step - accuracy: 0.9694 - loss: 0.0715 - val_accuracy: 0.9904 - val_loss: 0.0380\n",
            "Epoch 3/10\n",
            "\u001b[1m39279/39279\u001b[0m \u001b[32m━━━━━━━━━━━━━━━━━━━━\u001b[0m\u001b[37m\u001b[0m \u001b[1m146s\u001b[0m 3ms/step - accuracy: 0.9732 - loss: 0.0631 - val_accuracy: 0.9641 - val_loss: 0.0877\n",
            "Epoch 4/10\n",
            "\u001b[1m39279/39279\u001b[0m \u001b[32m━━━━━━━━━━━━━━━━━━━━\u001b[0m\u001b[37m\u001b[0m \u001b[1m132s\u001b[0m 3ms/step - accuracy: 0.9762 - loss: 0.0573 - val_accuracy: 0.9865 - val_loss: 0.0411\n",
            "Epoch 5/10\n",
            "\u001b[1m39279/39279\u001b[0m \u001b[32m━━━━━━━━━━━━━━━━━━━━\u001b[0m\u001b[37m\u001b[0m \u001b[1m135s\u001b[0m 3ms/step - accuracy: 0.9778 - loss: 0.0535 - val_accuracy: 0.9689 - val_loss: 0.0808\n",
            "Epoch 6/10\n",
            "\u001b[1m39279/39279\u001b[0m \u001b[32m━━━━━━━━━━━━━━━━━━━━\u001b[0m\u001b[37m\u001b[0m \u001b[1m136s\u001b[0m 3ms/step - accuracy: 0.9791 - loss: 0.0508 - val_accuracy: 0.9908 - val_loss: 0.0278\n",
            "Epoch 7/10\n",
            "\u001b[1m39279/39279\u001b[0m \u001b[32m━━━━━━━━━━━━━━━━━━━━\u001b[0m\u001b[37m\u001b[0m \u001b[1m151s\u001b[0m 3ms/step - accuracy: 0.9802 - loss: 0.0482 - val_accuracy: 0.9840 - val_loss: 0.0411\n",
            "Epoch 8/10\n",
            "\u001b[1m39279/39279\u001b[0m \u001b[32m━━━━━━━━━━━━━━━━━━━━\u001b[0m\u001b[37m\u001b[0m \u001b[1m128s\u001b[0m 3ms/step - accuracy: 0.9811 - loss: 0.0459 - val_accuracy: 0.9642 - val_loss: 0.0757\n",
            "Epoch 9/10\n",
            "\u001b[1m39279/39279\u001b[0m \u001b[32m━━━━━━━━━━━━━━━━━━━━\u001b[0m\u001b[37m\u001b[0m \u001b[1m128s\u001b[0m 3ms/step - accuracy: 0.9819 - loss: 0.0442 - val_accuracy: 0.9707 - val_loss: 0.0729\n",
            "Epoch 10/10\n",
            "\u001b[1m39279/39279\u001b[0m \u001b[32m━━━━━━━━━━━━━━━━━━━━\u001b[0m\u001b[37m\u001b[0m \u001b[1m121s\u001b[0m 3ms/step - accuracy: 0.9824 - loss: 0.0426 - val_accuracy: 0.9876 - val_loss: 0.0514\n"
          ]
        }
      ]
    },
    {
      "cell_type": "code",
      "source": [
        "# Predict on validation set\n",
        "y_pred_nn_1 = (model_1.predict(X_val_scaled) > 0.5).astype(\"int32\")\n",
        "\n",
        "# Evaluate\n",
        "print(\"Classification Report - Basic Neural Network (Instance 1):\")\n",
        "print(classification_report(y_val, y_pred_nn_1))\n"
      ],
      "metadata": {
        "colab": {
          "base_uri": "https://localhost:8080/"
        },
        "id": "MyoqLBAstvrd",
        "outputId": "7ecb29ec-a908-495b-cdc3-4b65c89bd19c"
      },
      "execution_count": 80,
      "outputs": [
        {
          "output_type": "stream",
          "name": "stdout",
          "text": [
            "\u001b[1m6554/6554\u001b[0m \u001b[32m━━━━━━━━━━━━━━━━━━━━\u001b[0m\u001b[37m\u001b[0m \u001b[1m9s\u001b[0m 1ms/step\n",
            "Classification Report - Basic Neural Network (Instance 1):\n",
            "              precision    recall  f1-score   support\n",
            "\n",
            "           0       1.00      0.99      0.99    209487\n",
            "           1       0.08      0.94      0.14       228\n",
            "\n",
            "    accuracy                           0.99    209715\n",
            "   macro avg       0.54      0.96      0.57    209715\n",
            "weighted avg       1.00      0.99      0.99    209715\n",
            "\n"
          ]
        }
      ]
    },
    {
      "cell_type": "code",
      "source": [
        "model_1.save('saved_models/nn_instance1_basic.keras')\n"
      ],
      "metadata": {
        "id": "iKR5yMKAt__4"
      },
      "execution_count": 82,
      "outputs": []
    },
    {
      "cell_type": "markdown",
      "metadata": {
        "id": "KJ9OXp1TSaXn"
      },
      "source": [
        "# Task: Print out the Final Model Accuracy and plot the Loss curve"
      ]
    },
    {
      "cell_type": "code",
      "execution_count": 83,
      "metadata": {
        "id": "fkihQBsaUxGh",
        "colab": {
          "base_uri": "https://localhost:8080/",
          "height": 507
        },
        "outputId": "7516f0d3-3787-44c9-a09c-c98bc07e6dc8"
      },
      "outputs": [
        {
          "output_type": "display_data",
          "data": {
            "text/plain": [
              "<Figure size 800x500 with 1 Axes>"
            ],
            "image/png": "[encoded data removed]"
          },
          "metadata": {}
        }
      ],
      "source": [
        "import matplotlib.pyplot as plt\n",
        "\n",
        "# Plot training and validation loss\n",
        "plt.figure(figsize=(8, 5))\n",
        "plt.plot(history_1.history['loss'], label='Training Loss', linewidth=2)\n",
        "plt.plot(history_1.history['val_loss'], label='Validation Loss', linewidth=2)\n",
        "plt.title('Loss Curve - Basic Neural Network (Instance 1)')\n",
        "plt.xlabel('Epoch')\n",
        "plt.ylabel('Binary Cross-Entropy Loss')\n",
        "plt.legend()\n",
        "plt.grid(True)\n",
        "plt.tight_layout()\n",
        "plt.show()\n"
      ]
    },
    {
      "cell_type": "code",
      "source": [
        "# Plot accuracy (optional)\n",
        "plt.figure(figsize=(8, 5))\n",
        "plt.plot(history_1.history['accuracy'], label='Training Accuracy', linewidth=2)\n",
        "plt.plot(history_1.history['val_accuracy'], label='Validation Accuracy', linewidth=2)\n",
        "plt.title('Accuracy Curve - Basic Neural Network (Instance 1)')\n",
        "plt.xlabel('Epoch')\n",
        "plt.ylabel('Accuracy')\n",
        "plt.legend()\n",
        "plt.grid(True)\n",
        "plt.tight_layout()\n",
        "plt.show()\n"
      ],
      "metadata": {
        "colab": {
          "base_uri": "https://localhost:8080/",
          "height": 507
        },
        "id": "O3Dq107-xOkm",
        "outputId": "2aa4a386-a4aa-4d36-972b-a7705b54ea35"
      },
      "execution_count": 84,
      "outputs": [
        {
          "output_type": "display_data",
          "data": {
            "text/plain": [
              "<Figure size 800x500 with 1 Axes>"
            ],
            "image/png": "[encoded data removed]"
          },
          "metadata": {}
        }
      ]
    },
    {
      "cell_type": "markdown",
      "metadata": {
        "id": "9hc6k2taT0_n"
      },
      "source": [
        "# SECTION 2: Optimization and Regularization Combinations\n",
        "At this point you should now create models that combine various optimization techniques\n",
        "As done before make sure to plot out the loss curve and the accuracy and loss in verbose"
      ]
    },
    {
      "cell_type": "code",
      "execution_count": 86,
      "metadata": {
        "id": "nr6HuVEtXvoP",
        "colab": {
          "base_uri": "https://localhost:8080/"
        },
        "outputId": "1c0e7bda-dd7c-4926-bfaf-6b3286cf586f"
      },
      "outputs": [
        {
          "output_type": "stream",
          "name": "stdout",
          "text": [
            "Epoch 1/50\n",
            "\u001b[1m19640/19640\u001b[0m \u001b[32m━━━━━━━━━━━━━━━━━━━━\u001b[0m\u001b[37m\u001b[0m \u001b[1m73s\u001b[0m 4ms/step - accuracy: 0.9157 - loss: 0.3341 - val_accuracy: 0.9655 - val_loss: 0.1863\n",
            "Epoch 2/50\n",
            "\u001b[1m19640/19640\u001b[0m \u001b[32m━━━━━━━━━━━━━━━━━━━━\u001b[0m\u001b[37m\u001b[0m \u001b[1m66s\u001b[0m 3ms/step - accuracy: 0.9399 - loss: 0.2074 - val_accuracy: 0.9350 - val_loss: 0.2200\n",
            "Epoch 3/50\n",
            "\u001b[1m19640/19640\u001b[0m \u001b[32m━━━━━━━━━━━━━━━━━━━━\u001b[0m\u001b[37m\u001b[0m \u001b[1m69s\u001b[0m 3ms/step - accuracy: 0.9440 - loss: 0.1923 - val_accuracy: 0.9696 - val_loss: 0.1638\n",
            "Epoch 4/50\n",
            "\u001b[1m19640/19640\u001b[0m \u001b[32m━━━━━━━━━━━━━━━━━━━━\u001b[0m\u001b[37m\u001b[0m \u001b[1m69s\u001b[0m 3ms/step - accuracy: 0.9471 - loss: 0.1824 - val_accuracy: 0.9759 - val_loss: 0.1475\n",
            "Epoch 5/50\n",
            "\u001b[1m19640/19640\u001b[0m \u001b[32m━━━━━━━━━━━━━━━━━━━━\u001b[0m\u001b[37m\u001b[0m \u001b[1m80s\u001b[0m 3ms/step - accuracy: 0.9502 - loss: 0.1751 - val_accuracy: 0.9781 - val_loss: 0.1422\n",
            "Epoch 6/50\n",
            "\u001b[1m19640/19640\u001b[0m \u001b[32m━━━━━━━━━━━━━━━━━━━━\u001b[0m\u001b[37m\u001b[0m \u001b[1m69s\u001b[0m 3ms/step - accuracy: 0.9525 - loss: 0.1682 - val_accuracy: 0.9901 - val_loss: 0.1035\n",
            "Epoch 7/50\n",
            "\u001b[1m19640/19640\u001b[0m \u001b[32m━━━━━━━━━━━━━━━━━━━━\u001b[0m\u001b[37m\u001b[0m \u001b[1m65s\u001b[0m 3ms/step - accuracy: 0.9531 - loss: 0.1644 - val_accuracy: 0.9808 - val_loss: 0.1276\n",
            "Epoch 8/50\n",
            "\u001b[1m19640/19640\u001b[0m \u001b[32m━━━━━━━━━━━━━━━━━━━━\u001b[0m\u001b[37m\u001b[0m \u001b[1m86s\u001b[0m 4ms/step - accuracy: 0.9543 - loss: 0.1603 - val_accuracy: 0.9652 - val_loss: 0.1584\n",
            "Epoch 9/50\n",
            "\u001b[1m19640/19640\u001b[0m \u001b[32m━━━━━━━━━━━━━━━━━━━━\u001b[0m\u001b[37m\u001b[0m \u001b[1m77s\u001b[0m 3ms/step - accuracy: 0.9546 - loss: 0.1576 - val_accuracy: 0.8974 - val_loss: 0.2487\n",
            "Epoch 10/50\n",
            "\u001b[1m19640/19640\u001b[0m \u001b[32m━━━━━━━━━━━━━━━━━━━━\u001b[0m\u001b[37m\u001b[0m \u001b[1m64s\u001b[0m 3ms/step - accuracy: 0.9546 - loss: 0.1550 - val_accuracy: 0.9814 - val_loss: 0.1175\n",
            "Epoch 11/50\n",
            "\u001b[1m19640/19640\u001b[0m \u001b[32m━━━━━━━━━━━━━━━━━━━━\u001b[0m\u001b[37m\u001b[0m \u001b[1m64s\u001b[0m 3ms/step - accuracy: 0.9554 - loss: 0.1531 - val_accuracy: 0.9720 - val_loss: 0.1362\n"
          ]
        }
      ],
      "source": [
        "from tensorflow.keras.models import Sequential\n",
        "from tensorflow.keras.layers import Dense\n",
        "from tensorflow.keras.optimizers import RMSprop\n",
        "from tensorflow.keras.regularizers import l2\n",
        "from tensorflow.keras.callbacks import EarlyStopping\n",
        "\n",
        "# Optimizer with custom learning rate\n",
        "optimizer = RMSprop(learning_rate=0.0005)\n",
        "\n",
        "# Early stopping\n",
        "early_stop = EarlyStopping(monitor='val_loss', patience=5, restore_best_weights=True)\n",
        "\n",
        "# Model architecture\n",
        "model_2 = Sequential([\n",
        "    Dense(128, activation='relu', kernel_regularizer=l2(0.01), input_shape=(X_train_scaled.shape[1],)),\n",
        "    Dense(64, activation='relu', kernel_regularizer=l2(0.01)),\n",
        "    Dense(32, activation='relu', kernel_regularizer=l2(0.01)),\n",
        "    Dense(1, activation='sigmoid')\n",
        "])\n",
        "\n",
        "# Compile model\n",
        "model_2.compile(\n",
        "    optimizer=optimizer,\n",
        "    loss='binary_crossentropy',\n",
        "    metrics=['accuracy']\n",
        ")\n",
        "\n",
        "# Train model\n",
        "history_2 = model_2.fit(\n",
        "    X_train_scaled, y_train,\n",
        "    validation_data=(X_val_scaled, y_val),\n",
        "    epochs=50,\n",
        "    batch_size=64,\n",
        "    callbacks=[early_stop],\n",
        "    verbose=1\n",
        ")\n"
      ]
    },
    {
      "cell_type": "code",
      "source": [
        "# Evaluate accuracy\n",
        "val_loss_2, val_acc_2 = model_2.evaluate(X_val_scaled, y_val, verbose=0)\n",
        "print(f\"\\n✅ Instance 2 - Final Validation Accuracy: {val_acc_2:.4f}\")\n",
        "# Save model\n",
        "model_2.save('saved_models/nn_instance2_optimized.keras')\n"
      ],
      "metadata": {
        "colab": {
          "base_uri": "https://localhost:8080/"
        },
        "id": "7yiomBBO1T-p",
        "outputId": "51ee52bd-6c54-44e2-ae7d-702b69951d94"
      },
      "execution_count": 87,
      "outputs": [
        {
          "output_type": "stream",
          "name": "stdout",
          "text": [
            "\n",
            "✅ Instance 2 - Final Validation Accuracy: 0.9901\n"
          ]
        }
      ]
    },
    {
      "cell_type": "code",
      "source": [
        "import numpy as np\n",
        "from sklearn.metrics import confusion_matrix, classification_report, accuracy_score, f1_score, precision_score, recall_score\n",
        "\n",
        "# Predict (convert probabilities to 0/1)\n",
        "y_pred_2 = (model_2.predict(X_val_scaled) > 0.5).astype('int32')\n",
        "# Confusion Matrix\n",
        "cm_2 = confusion_matrix(y_val, y_pred_2)\n",
        "\n",
        "import seaborn as sns\n",
        "import matplotlib.pyplot as plt\n",
        "\n",
        "plt.figure(figsize=(5, 4))\n",
        "sns.heatmap(cm_2, annot=True, fmt='d', cmap='Blues')\n",
        "plt.title('Confusion Matrix - NN Instance 2')\n",
        "plt.xlabel('Predicted')\n",
        "plt.ylabel('Actual')\n",
        "plt.show()\n"
      ],
      "metadata": {
        "colab": {
          "base_uri": "https://localhost:8080/",
          "height": 427
        },
        "id": "ADTs_Imr1lC4",
        "outputId": "8246f409-be50-4f00-d76b-3fa14352c14f"
      },
      "execution_count": 88,
      "outputs": [
        {
          "output_type": "stream",
          "name": "stdout",
          "text": [
            "\u001b[1m6554/6554\u001b[0m \u001b[32m━━━━━━━━━━━━━━━━━━━━\u001b[0m\u001b[37m\u001b[0m \u001b[1m9s\u001b[0m 1ms/step\n"
          ]
        },
        {
          "output_type": "display_data",
          "data": {
            "text/plain": [
              "<Figure size 500x400 with 2 Axes>"
            ],
            "image/png": "[encoded data removed]"
          },
          "metadata": {}
        }
      ]
    },
    {
      "cell_type": "code",
      "source": [
        "# Classification Report\n",
        "print(\"Classification Report - NN Instance 2:\")\n",
        "print(classification_report(y_val, y_pred_2))\n",
        "\n",
        "# Individual Metrics (for summary table)\n",
        "accuracy_2 = accuracy_score(y_val, y_pred_2)\n",
        "f1_2 = f1_score(y_val, y_pred_2)\n",
        "precision_2 = precision_score(y_val, y_pred_2)\n",
        "recall_2 = recall_score(y_val, y_pred_2)\n",
        "\n",
        "print(f\"Accuracy:  {accuracy_2:.4f}\")\n",
        "print(f\"Precision: {precision_2:.4f}\")\n",
        "print(f\"Recall:    {recall_2:.4f}\")\n",
        "print(f\"F1 Score:  {f1_2:.4f}\")\n"
      ],
      "metadata": {
        "colab": {
          "base_uri": "https://localhost:8080/"
        },
        "id": "JxHIsHqw15k9",
        "outputId": "8317f1c0-c2da-4310-c270-bdbb63d7beec"
      },
      "execution_count": 89,
      "outputs": [
        {
          "output_type": "stream",
          "name": "stdout",
          "text": [
            "Classification Report - NN Instance 2:\n",
            "              precision    recall  f1-score   support\n",
            "\n",
            "           0       1.00      0.99      1.00    209487\n",
            "           1       0.09      0.89      0.16       228\n",
            "\n",
            "    accuracy                           0.99    209715\n",
            "   macro avg       0.54      0.94      0.58    209715\n",
            "weighted avg       1.00      0.99      0.99    209715\n",
            "\n",
            "Accuracy:  0.9901\n",
            "Precision: 0.0901\n",
            "Recall:    0.8860\n",
            "F1 Score:  0.1636\n"
          ]
        }
      ]
    },
    {
      "cell_type": "code",
      "source": [
        "instance_2_metrics = {\n",
        "    \"Instance\": \"2\",\n",
        "    \"Optimizer\": \"RMSprop\",\n",
        "    \"Regularizer\": \"L2\",\n",
        "    \"Epochs\": len(history_2.history['loss']),\n",
        "    \"EarlyStopping\": \"Yes\",\n",
        "    \"Layers\": 4,\n",
        "    \"LearningRate\": 0.0005,\n",
        "    \"Accuracy\": round(accuracy_2, 4),\n",
        "    \"Precision\": round(precision_2, 4),\n",
        "    \"Recall\": round(recall_2, 4),\n",
        "    \"F1\": round(f1_2, 4)\n",
        "}\n",
        "\n",
        "print(instance_2_metrics)\n"
      ],
      "metadata": {
        "colab": {
          "base_uri": "https://localhost:8080/"
        },
        "id": "Pcgu0YTF1_ox",
        "outputId": "eeb3719e-c381-4362-cbf9-bc0796f1a110"
      },
      "execution_count": 90,
      "outputs": [
        {
          "output_type": "stream",
          "name": "stdout",
          "text": [
            "{'Instance': '2', 'Optimizer': 'RMSprop', 'Regularizer': 'L2', 'Epochs': 11, 'EarlyStopping': 'Yes', 'Layers': 4, 'LearningRate': 0.0005, 'Accuracy': 0.9901, 'Precision': 0.0901, 'Recall': 0.886, 'F1': 0.1636}\n"
          ]
        }
      ]
    },
    {
      "cell_type": "code",
      "execution_count": 92,
      "metadata": {
        "id": "UygzqjB-Xvgo",
        "colab": {
          "base_uri": "https://localhost:8080/"
        },
        "outputId": "9a975a55-e919-4392-a33b-64900b338782"
      },
      "outputs": [
        {
          "output_type": "stream",
          "name": "stdout",
          "text": [
            "Epoch 1/50\n",
            "\u001b[1m19640/19640\u001b[0m \u001b[32m━━━━━━━━━━━━━━━━━━━━\u001b[0m\u001b[37m\u001b[0m \u001b[1m79s\u001b[0m 4ms/step - accuracy: 0.9228 - loss: 0.1757 - val_accuracy: 0.9845 - val_loss: 0.0512\n",
            "Epoch 2/50\n",
            "\u001b[1m19640/19640\u001b[0m \u001b[32m━━━━━━━━━━━━━━━━━━━━\u001b[0m\u001b[37m\u001b[0m \u001b[1m80s\u001b[0m 4ms/step - accuracy: 0.9689 - loss: 0.0762 - val_accuracy: 0.9842 - val_loss: 0.0502\n",
            "Epoch 3/50\n",
            "\u001b[1m19640/19640\u001b[0m \u001b[32m━━━━━━━━━━━━━━━━━━━━\u001b[0m\u001b[37m\u001b[0m \u001b[1m79s\u001b[0m 4ms/step - accuracy: 0.9726 - loss: 0.0678 - val_accuracy: 0.9756 - val_loss: 0.0597\n",
            "Epoch 4/50\n",
            "\u001b[1m19640/19640\u001b[0m \u001b[32m━━━━━━━━━━━━━━━━━━━━\u001b[0m\u001b[37m\u001b[0m \u001b[1m81s\u001b[0m 4ms/step - accuracy: 0.9735 - loss: 0.0649 - val_accuracy: 0.9886 - val_loss: 0.0375\n",
            "Epoch 5/50\n",
            "\u001b[1m19640/19640\u001b[0m \u001b[32m━━━━━━━━━━━━━━━━━━━━\u001b[0m\u001b[37m\u001b[0m \u001b[1m78s\u001b[0m 4ms/step - accuracy: 0.9749 - loss: 0.0619 - val_accuracy: 0.9658 - val_loss: 0.0774\n",
            "Epoch 6/50\n",
            "\u001b[1m19640/19640\u001b[0m \u001b[32m━━━━━━━━━━━━━━━━━━━━\u001b[0m\u001b[37m\u001b[0m \u001b[1m83s\u001b[0m 4ms/step - accuracy: 0.9755 - loss: 0.0592 - val_accuracy: 0.9889 - val_loss: 0.0400\n",
            "Epoch 7/50\n",
            "\u001b[1m19640/19640\u001b[0m \u001b[32m━━━━━━━━━━━━━━━━━━━━\u001b[0m\u001b[37m\u001b[0m \u001b[1m73s\u001b[0m 4ms/step - accuracy: 0.9762 - loss: 0.0580 - val_accuracy: 0.9867 - val_loss: 0.0382\n",
            "Epoch 8/50\n",
            "\u001b[1m19640/19640\u001b[0m \u001b[32m━━━━━━━━━━━━━━━━━━━━\u001b[0m\u001b[37m\u001b[0m \u001b[1m76s\u001b[0m 4ms/step - accuracy: 0.9766 - loss: 0.0562 - val_accuracy: 0.9850 - val_loss: 0.0415\n",
            "Epoch 9/50\n",
            "\u001b[1m19640/19640\u001b[0m \u001b[32m━━━━━━━━━━━━━━━━━━━━\u001b[0m\u001b[37m\u001b[0m \u001b[1m82s\u001b[0m 4ms/step - accuracy: 0.9768 - loss: 0.0559 - val_accuracy: 0.9823 - val_loss: 0.0468\n"
          ]
        }
      ],
      "source": [
        "from tensorflow.keras.models import Sequential\n",
        "from tensorflow.keras.layers import Dense, Dropout\n",
        "from tensorflow.keras.optimizers import Adam\n",
        "from tensorflow.keras.callbacks import EarlyStopping\n",
        "\n",
        "# Optimizer with custom learning rate\n",
        "optimizer_3 = Adam(learning_rate=0.0003)\n",
        "\n",
        "# Early stopping\n",
        "early_stop_3 = EarlyStopping(monitor='val_loss', patience=5, restore_best_weights=True)\n",
        "\n",
        "# Define the model architecture\n",
        "model_3 = Sequential([\n",
        "    Dense(128, activation='relu', input_shape=(X_train_scaled.shape[1],)),\n",
        "    Dropout(0.3),\n",
        "    Dense(64, activation='relu'),\n",
        "    Dropout(0.3),\n",
        "    Dense(32, activation='relu'),\n",
        "    Dense(1, activation='sigmoid')\n",
        "])\n",
        "\n",
        "# Compile the model\n",
        "model_3.compile(\n",
        "    optimizer=optimizer_3,\n",
        "    loss='binary_crossentropy',\n",
        "    metrics=['accuracy']\n",
        ")\n",
        "\n",
        "# Train the model\n",
        "history_3 = model_3.fit(\n",
        "    X_train_scaled, y_train,\n",
        "    validation_data=(X_val_scaled, y_val),\n",
        "    epochs=50,\n",
        "    batch_size=64,\n",
        "    callbacks=[early_stop_3],\n",
        "    verbose=1\n",
        ")\n"
      ]
    },
    {
      "cell_type": "code",
      "source": [
        "val_loss_3, val_acc_3 = model_3.evaluate(X_val_scaled, y_val, verbose=0)\n",
        "print(f\"\\n✅ Instance 3 - Final Validation Accuracy: {val_acc_3:.4f}\")\n",
        "\n",
        "# Save model\n",
        "model_3.save('saved_models/nn_instance3_optimized.keras')\n"
      ],
      "metadata": {
        "colab": {
          "base_uri": "https://localhost:8080/"
        },
        "id": "QRFeboro5PWu",
        "outputId": "abe59b05-7b28-4a73-e655-c8e9ebcd9004"
      },
      "execution_count": 93,
      "outputs": [
        {
          "output_type": "stream",
          "name": "stdout",
          "text": [
            "\n",
            "✅ Instance 3 - Final Validation Accuracy: 0.9886\n"
          ]
        }
      ]
    },
    {
      "cell_type": "code",
      "source": [
        "# Predict on validation set\n",
        "y_pred_3 = (model_3.predict(X_val_scaled) > 0.5).astype('int32')\n",
        "\n",
        "# Confusion matrix\n",
        "cm_3 = confusion_matrix(y_val, y_pred_3)\n",
        "\n",
        "plt.figure(figsize=(5, 4))\n",
        "sns.heatmap(cm_3, annot=True, fmt='d', cmap='Purples')\n",
        "plt.title('Confusion Matrix - NN Instance 3')\n",
        "plt.xlabel('Predicted')\n",
        "plt.ylabel('Actual')\n",
        "plt.show()\n",
        "\n",
        "# Classification report\n",
        "print(\"Classification Report - NN Instance 3:\")\n",
        "print(classification_report(y_val, y_pred_3))\n",
        "\n",
        "# Individual metrics\n",
        "accuracy_3 = accuracy_score(y_val, y_pred_3)\n",
        "f1_3 = f1_score(y_val, y_pred_3)\n",
        "precision_3 = precision_score(y_val, y_pred_3)\n",
        "recall_3 = recall_score(y_val, y_pred_3)\n",
        "\n",
        "print(f\"Accuracy:  {accuracy_3:.4f}\")\n",
        "print(f\"Precision: {precision_3:.4f}\")\n",
        "print(f\"Recall:    {recall_3:.4f}\")\n",
        "print(f\"F1 Score:  {f1_3:.4f}\")\n"
      ],
      "metadata": {
        "colab": {
          "base_uri": "https://localhost:8080/",
          "height": 670
        },
        "id": "o1SrEWRg5XqR",
        "outputId": "13fe9efe-fd1e-497a-abd9-de8b6e0c877c"
      },
      "execution_count": 94,
      "outputs": [
        {
          "output_type": "stream",
          "name": "stdout",
          "text": [
            "\u001b[1m6554/6554\u001b[0m \u001b[32m━━━━━━━━━━━━━━━━━━━━\u001b[0m\u001b[37m\u001b[0m \u001b[1m8s\u001b[0m 1ms/step\n"
          ]
        },
        {
          "output_type": "display_data",
          "data": {
            "text/plain": [
              "<Figure size 500x400 with 2 Axes>"
            ],
            "image/png": "[encoded data removed]"
          },
          "metadata": {}
        },
        {
          "output_type": "stream",
          "name": "stdout",
          "text": [
            "Classification Report - NN Instance 3:\n",
            "              precision    recall  f1-score   support\n",
            "\n",
            "           0       1.00      0.99      0.99    209487\n",
            "           1       0.08      0.95      0.15       228\n",
            "\n",
            "    accuracy                           0.99    209715\n",
            "   macro avg       0.54      0.97      0.57    209715\n",
            "weighted avg       1.00      0.99      0.99    209715\n",
            "\n",
            "Accuracy:  0.9886\n",
            "Precision: 0.0834\n",
            "Recall:    0.9518\n",
            "F1 Score:  0.1534\n"
          ]
        }
      ]
    },
    {
      "cell_type": "code",
      "source": [
        "\n",
        "instance_3_metrics = {\n",
        "    \"Instance\": \"3\",\n",
        "    \"Optimizer\": \"Adam\",\n",
        "    \"Regularizer\": \"Dropout (0.3)\",\n",
        "    \"Epochs\": len(history_3.history['loss']),\n",
        "    \"EarlyStopping\": \"Yes\",\n",
        "    \"Layers\": 4,\n",
        "    \"LearningRate\": 0.0003,\n",
        "    \"Accuracy\": round(accuracy_3, 4),\n",
        "    \"Precision\": round(precision_3, 4),\n",
        "    \"Recall\": round(recall_3, 4),\n",
        "    \"F1\": round(f1_3, 4)\n",
        "}\n",
        "\n",
        "print(instance_3_metrics)\n"
      ],
      "metadata": {
        "colab": {
          "base_uri": "https://localhost:8080/"
        },
        "id": "6Hp8izH45qyA",
        "outputId": "c44f4eac-30b0-4550-e39f-ecec03f8af46"
      },
      "execution_count": 95,
      "outputs": [
        {
          "output_type": "stream",
          "name": "stdout",
          "text": [
            "{'Instance': '3', 'Optimizer': 'Adam', 'Regularizer': 'Dropout (0.3)', 'Epochs': 9, 'EarlyStopping': 'Yes', 'Layers': 4, 'LearningRate': 0.0003, 'Accuracy': 0.9886, 'Precision': 0.0834, 'Recall': 0.9518, 'F1': 0.1534}\n"
          ]
        }
      ]
    },
    {
      "cell_type": "code",
      "execution_count": 97,
      "metadata": {
        "id": "9NEtnjqxXvXm",
        "colab": {
          "base_uri": "https://localhost:8080/"
        },
        "outputId": "5731591c-ea2b-48e1-a415-7665b80ccce0"
      },
      "outputs": [
        {
          "output_type": "stream",
          "name": "stdout",
          "text": [
            "Epoch 1/50\n",
            "\u001b[1m19640/19640\u001b[0m \u001b[32m━━━━━━━━━━━━━━━━━━━━\u001b[0m\u001b[37m\u001b[0m \u001b[1m69s\u001b[0m 3ms/step - accuracy: 0.8771 - loss: 0.7999 - val_accuracy: 0.9342 - val_loss: 0.2441\n",
            "Epoch 2/50\n",
            "\u001b[1m19640/19640\u001b[0m \u001b[32m━━━━━━━━━━━━━━━━━━━━\u001b[0m\u001b[37m\u001b[0m \u001b[1m72s\u001b[0m 4ms/step - accuracy: 0.9395 - loss: 0.2106 - val_accuracy: 0.9572 - val_loss: 0.1745\n",
            "Epoch 3/50\n",
            "\u001b[1m19640/19640\u001b[0m \u001b[32m━━━━━━━━━━━━━━━━━━━━\u001b[0m\u001b[37m\u001b[0m \u001b[1m83s\u001b[0m 4ms/step - accuracy: 0.9440 - loss: 0.1870 - val_accuracy: 0.9853 - val_loss: 0.1130\n",
            "Epoch 4/50\n",
            "\u001b[1m19640/19640\u001b[0m \u001b[32m━━━━━━━━━━━━━━━━━━━━\u001b[0m\u001b[37m\u001b[0m \u001b[1m80s\u001b[0m 4ms/step - accuracy: 0.9452 - loss: 0.1808 - val_accuracy: 0.9891 - val_loss: 0.1020\n",
            "Epoch 5/50\n",
            "\u001b[1m19640/19640\u001b[0m \u001b[32m━━━━━━━━━━━━━━━━━━━━\u001b[0m\u001b[37m\u001b[0m \u001b[1m72s\u001b[0m 4ms/step - accuracy: 0.9470 - loss: 0.1764 - val_accuracy: 0.9092 - val_loss: 0.2228\n",
            "Epoch 6/50\n",
            "\u001b[1m19640/19640\u001b[0m \u001b[32m━━━━━━━━━━━━━━━━━━━━\u001b[0m\u001b[37m\u001b[0m \u001b[1m82s\u001b[0m 4ms/step - accuracy: 0.9479 - loss: 0.1743 - val_accuracy: 0.9833 - val_loss: 0.1116\n",
            "Epoch 7/50\n",
            "\u001b[1m19640/19640\u001b[0m \u001b[32m━━━━━━━━━━━━━━━━━━━━\u001b[0m\u001b[37m\u001b[0m \u001b[1m78s\u001b[0m 3ms/step - accuracy: 0.9488 - loss: 0.1730 - val_accuracy: 0.9846 - val_loss: 0.1162\n",
            "Epoch 8/50\n",
            "\u001b[1m19640/19640\u001b[0m \u001b[32m━━━━━━━━━━━━━━━━━━━━\u001b[0m\u001b[37m\u001b[0m \u001b[1m68s\u001b[0m 3ms/step - accuracy: 0.9490 - loss: 0.1730 - val_accuracy: 0.9728 - val_loss: 0.1279\n",
            "Epoch 9/50\n",
            "\u001b[1m19640/19640\u001b[0m \u001b[32m━━━━━━━━━━━━━━━━━━━━\u001b[0m\u001b[37m\u001b[0m \u001b[1m90s\u001b[0m 4ms/step - accuracy: 0.9499 - loss: 0.1717 - val_accuracy: 0.9415 - val_loss: 0.1839\n"
          ]
        }
      ],
      "source": [
        "from tensorflow.keras.optimizers import SGD\n",
        "from tensorflow.keras.regularizers import l1\n",
        "\n",
        "# Optimizer: SGD with custom learning rate\n",
        "optimizer_4 = SGD(learning_rate=0.01)\n",
        "\n",
        "# Early stopping\n",
        "early_stop_4 = EarlyStopping(monitor='val_loss', patience=5, restore_best_weights=True)\n",
        "\n",
        "# Model architecture\n",
        "model_4 = Sequential([\n",
        "    Dense(128, activation='relu', kernel_regularizer=l1(0.001), input_shape=(X_train_scaled.shape[1],)),\n",
        "    Dropout(0.3),\n",
        "    Dense(64, activation='relu', kernel_regularizer=l1(0.001)),\n",
        "    Dropout(0.3),\n",
        "    Dense(32, activation='relu'),\n",
        "    Dense(1, activation='sigmoid')\n",
        "])\n",
        "\n",
        "# Compile\n",
        "model_4.compile(\n",
        "    optimizer=optimizer_4,\n",
        "    loss='binary_crossentropy',\n",
        "    metrics=['accuracy']\n",
        ")\n",
        "\n",
        "# Train\n",
        "history_4 = model_4.fit(\n",
        "    X_train_scaled, y_train,\n",
        "    validation_data=(X_val_scaled, y_val),\n",
        "    epochs=50,\n",
        "    batch_size=64,\n",
        "    callbacks=[early_stop_4],\n",
        "    verbose=1\n",
        ")\n"
      ]
    },
    {
      "cell_type": "code",
      "source": [
        "val_loss_4, val_acc_4 = model_4.evaluate(X_val_scaled, y_val, verbose=0)\n",
        "print(f\"\\n✅ Instance 4 - Final Validation Accuracy: {val_acc_4:.4f}\")\n",
        "\n",
        "# Save the model\n",
        "model_4.save('saved_models/nn_instance4_optimized.keras')\n"
      ],
      "metadata": {
        "colab": {
          "base_uri": "https://localhost:8080/"
        },
        "id": "hecsAuHj82r5",
        "outputId": "593099c4-3449-4c58-d634-5dfc4e3f286a"
      },
      "execution_count": 98,
      "outputs": [
        {
          "output_type": "stream",
          "name": "stdout",
          "text": [
            "\n",
            "✅ Instance 4 - Final Validation Accuracy: 0.9891\n"
          ]
        }
      ]
    },
    {
      "cell_type": "code",
      "source": [
        "# Predict\n",
        "y_pred_4 = (model_4.predict(X_val_scaled) > 0.5).astype('int32')\n",
        "\n",
        "# Confusion matrix\n",
        "cm_4 = confusion_matrix(y_val, y_pred_4)\n",
        "\n",
        "plt.figure(figsize=(5, 4))\n",
        "sns.heatmap(cm_4, annot=True, fmt='d', cmap='Oranges')\n",
        "plt.title('Confusion Matrix - NN Instance 4')\n",
        "plt.xlabel('Predicted')\n",
        "plt.ylabel('Actual')\n",
        "plt.show()\n",
        "\n",
        "# Classification report\n",
        "print(\"Classification Report - NN Instance 4:\")\n",
        "print(classification_report(y_val, y_pred_4))\n",
        "\n",
        "# Individual metrics\n",
        "accuracy_4 = accuracy_score(y_val, y_pred_4)\n",
        "f1_4 = f1_score(y_val, y_pred_4)\n",
        "precision_4 = precision_score(y_val, y_pred_4)\n",
        "recall_4 = recall_score(y_val, y_pred_4)\n",
        "\n",
        "print(f\"Accuracy:  {accuracy_4:.4f}\")\n",
        "print(f\"Precision: {precision_4:.4f}\")\n",
        "print(f\"Recall:    {recall_4:.4f}\")\n",
        "print(f\"F1 Score:  {f1_4:.4f}\")\n"
      ],
      "metadata": {
        "colab": {
          "base_uri": "https://localhost:8080/",
          "height": 670
        },
        "id": "jY0LkJqj9BuM",
        "outputId": "8ca92e6c-916e-477d-bc8c-149e643049a4"
      },
      "execution_count": 99,
      "outputs": [
        {
          "output_type": "stream",
          "name": "stdout",
          "text": [
            "\u001b[1m6554/6554\u001b[0m \u001b[32m━━━━━━━━━━━━━━━━━━━━\u001b[0m\u001b[37m\u001b[0m \u001b[1m10s\u001b[0m 2ms/step\n"
          ]
        },
        {
          "output_type": "display_data",
          "data": {
            "text/plain": [
              "<Figure size 500x400 with 2 Axes>"
            ],
            "image/png": "[encoded data removed]"
          },
          "metadata": {}
        },
        {
          "output_type": "stream",
          "name": "stdout",
          "text": [
            "Classification Report - NN Instance 4:\n",
            "              precision    recall  f1-score   support\n",
            "\n",
            "           0       1.00      0.99      0.99    209487\n",
            "           1       0.08      0.88      0.15       228\n",
            "\n",
            "    accuracy                           0.99    209715\n",
            "   macro avg       0.54      0.94      0.57    209715\n",
            "weighted avg       1.00      0.99      0.99    209715\n",
            "\n",
            "Accuracy:  0.9891\n",
            "Precision: 0.0816\n",
            "Recall:    0.8816\n",
            "F1 Score:  0.1494\n"
          ]
        }
      ]
    },
    {
      "cell_type": "code",
      "source": [
        "instance_4_metrics = {\n",
        "    \"Instance\": \"4\",\n",
        "    \"Optimizer\": \"SGD\",\n",
        "    \"Regularizer\": \"L1 + Dropout (0.3)\",\n",
        "    \"Epochs\": len(history_4.history['loss']),\n",
        "    \"EarlyStopping\": \"Yes\",\n",
        "    \"Layers\": 4,\n",
        "    \"LearningRate\": 0.01,\n",
        "    \"Accuracy\": round(accuracy_4, 4),\n",
        "    \"Precision\": round(precision_4, 4),\n",
        "    \"Recall\": round(recall_4, 4),\n",
        "    \"F1\": round(f1_4, 4)\n",
        "}\n",
        "\n",
        "print(instance_4_metrics)\n"
      ],
      "metadata": {
        "colab": {
          "base_uri": "https://localhost:8080/"
        },
        "id": "H0FrAQos9K6n",
        "outputId": "adfd309a-4209-4627-adbd-0fac77cce103"
      },
      "execution_count": 100,
      "outputs": [
        {
          "output_type": "stream",
          "name": "stdout",
          "text": [
            "{'Instance': '4', 'Optimizer': 'SGD', 'Regularizer': 'L1 + Dropout (0.3)', 'Epochs': 9, 'EarlyStopping': 'Yes', 'Layers': 4, 'LearningRate': 0.01, 'Accuracy': 0.9891, 'Precision': 0.0816, 'Recall': 0.8816, 'F1': 0.1494}\n"
          ]
        }
      ]
    },
    {
      "cell_type": "markdown",
      "metadata": {
        "id": "3aZLEriYOXI1"
      },
      "source": [
        "#Task: Make Predictions using the best saved model\n"
      ]
    },
    {
      "cell_type": "markdown",
      "metadata": {
        "id": "LnBLwqTJX3p0"
      },
      "source": [
        "Create a confusion Matrix and F1 score for both Models. Ensure outputs for the cells are visible"
      ]
    },
    {
      "cell_type": "markdown",
      "metadata": {
        "id": "bO79SOsZYG-M"
      },
      "source": [
        "Finally, Make predictions using the best model. By the time you get to this cell you may realise at some point you needed to save the model so that you cal load it later"
      ]
    },
    {
      "cell_type": "code",
      "execution_count": null,
      "metadata": {
        "id": "Nqqe2PasUIAG"
      },
      "outputs": [],
      "source": [
        "def make_predictions(model_path, X):\n",
        "\n",
        "    # Load the model\n",
        "    model = load_model(None)\n",
        "    # Make predictions\n",
        "    predictions = None\n",
        "    # Convert probabilities to binary labels (0 or 1)\n",
        "\n",
        "    return predictions\n",
        "\n",
        "#Modify the code appropriately"
      ]
    },
    {
      "cell_type": "code",
      "execution_count": null,
      "metadata": {
        "id": "O_jwbvaAUMj4"
      },
      "outputs": [],
      "source": [
        "model_path = None\n",
        "make_predictions(None)"
      ]
    },
    {
      "cell_type": "markdown",
      "metadata": {
        "id": "rfTHk2nZMzTH"
      },
      "source": [
        "Congratulations!!\n"
      ]
    }
  ],
  "metadata": {
    "colab": {
      "provenance": [],
      "include_colab_link": true
    },
    "kernelspec": {
      "display_name": "Python 3",
      "name": "python3"
    },
    "language_info": {
      "name": "python"
    }
  },
  "nbformat": 4,
  "nbformat_minor": 0
}